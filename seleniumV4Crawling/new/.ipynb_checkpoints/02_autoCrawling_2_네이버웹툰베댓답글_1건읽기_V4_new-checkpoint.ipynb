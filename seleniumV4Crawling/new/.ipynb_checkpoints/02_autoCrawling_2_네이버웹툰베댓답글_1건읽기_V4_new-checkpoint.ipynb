{
 "cells": [
  {
   "cell_type": "code",
   "execution_count": 1,
   "id": "8e85916c",
   "metadata": {},
   "outputs": [],
   "source": [
    "import warnings\n",
    "warnings.filterwarnings(action='ignore')\n",
    "%config Computer.use_jedi = False\n",
    "from bs4 import BeautifulSoup\n",
    "from selenium import webdriver\n",
    "from selenium.webdriver.chrome.options import Options\n",
    "from selenium.webdriver.common.by import By # selenium 4.x 버전 'BY'를 사용하기 위해 import 한다. \n",
    "import time "
   ]
  },
  {
   "cell_type": "markdown",
   "id": "829fd48f",
   "metadata": {},
   "source": [
    "from selenium.webdriver.common.by import By를 import 하고 사용한다.  \n",
    "driver.find_element_by_class_name('') => driver.find_element(By.CLASS_NAME, '')로 변경됨  \n",
    "driver.find_element_by_id('') => driver.find_element(By.ID, '')로 변경됨  \n",
    "driver.find_element_by_name('') => driver.find_element(By.NAME, '')로 변경됨  \n",
    "driver.find_element_by_link_text('') => driver.find_element(By.LINK_TEXT, '')로 변경됨  \n",
    "driver.find_element_by_partial_link_text('') => driver.find_element(By.PARTIAL_LINK_TEXT, '')로 변경됨  \n",
    "driver.find_element_by_tag_name('') => driver.find_element(By.TAG_NAME, '')로 변경됨  \n",
    "driver.find_element_by_css_selector('') => driver.find_element(By.CSS_SELECTOR, '')로 변경됨  \n",
    "driver.find_element_by_xpath('') => driver.find_element(By.XPATH, '')로 변경됨  "
   ]
  },
  {
   "cell_type": "code",
   "execution_count": 3,
   "id": "fd327d2d",
   "metadata": {},
   "outputs": [
    {
     "name": "stdout",
     "output_type": "stream",
     "text": [
      "15\n",
      " 1. 냥군 어떻게 한거야 제발 알려줘\n",
      "================================================================================\n"
     ]
    }
   ],
   "source": [
    "option = Options()\n",
    "option.add_argument('--window-size=1890,1030') # 가상 크롬의 창 크기를 지정한다. \n",
    "driver = webdriver.Chrome('./chromedriver.exe', options=option) # 가상 크롬을 실행한다. \n",
    "driver.implicitly_wait(5)\n",
    "\n",
    "driver.get('https://comic.naver.com/webtoon/detail?titleId=812354&no=22')\n",
    "html = driver.page_source # 가상 크롬에 실행된 사이트의 html 정보를 얻어온다. \n",
    "soup = BeautifulSoup(html,'html.parser')\n",
    "reviews = soup.select('span.u_cbox_contents')\n",
    "print(len(reviews))\n",
    "print('{:2d}. {}'.format(1, reviews[0].text))\n",
    "print('=' * 80)\n",
    "\n",
    "# 답글 링크를 클릭한다. \n",
    "# driver.find_element_by_xpath('elemant_xpath') => driver.find_element(By.XPATH, 'elemant_xpath')\n",
    "# driver.find_element_by_xpath( # 3.x 버전 \n",
    "driver.find_element(By.XPATH,\n",
    "    '//*[@id=\"cbox_module_wai_u_cbox_content_wrap_tabpanel\"]/ul/li[1]/div[1]/div/div[4]/a'\n",
    ").click()\n",
    "time.sleep(0.5)\n",
    "\n",
    "# 더보기 링크가 더이상 나오지 않을때 가지 반복하며 답글의 더보기 버튼을 클릭해서 답글을 표시한다. \n",
    "while True:\n",
    "    try:\n",
    "        # driver.find_element_by_xpath(\n",
    "        driver.find_element(By.XPATH,\n",
    "            '//*[@id=\"cbox_module_wai_u_cbox_content_wrap_tabpanel\"]/ul/li[1]/div[2]/div[2]/a' # 1 번째 베댓의 더보기 링크\n",
    "        ).click()\n",
    "        time.sleep(0.5)\n",
    "    except:\n",
    "        break"
   ]
  },
  {
   "cell_type": "code",
   "execution_count": null,
   "id": "66e4c53b",
   "metadata": {},
   "outputs": [],
   "source": []
  },
  {
   "cell_type": "code",
   "execution_count": null,
   "id": "220e9490",
   "metadata": {},
   "outputs": [],
   "source": []
  },
  {
   "cell_type": "code",
   "execution_count": null,
   "id": "b957493d",
   "metadata": {},
   "outputs": [],
   "source": []
  }
 ],
 "metadata": {
  "kernelspec": {
   "display_name": "py37",
   "language": "python",
   "name": "py37"
  },
  "language_info": {
   "codemirror_mode": {
    "name": "ipython",
    "version": 3
   },
   "file_extension": ".py",
   "mimetype": "text/x-python",
   "name": "python",
   "nbconvert_exporter": "python",
   "pygments_lexer": "ipython3",
   "version": "3.7.16"
  }
 },
 "nbformat": 4,
 "nbformat_minor": 5
}
