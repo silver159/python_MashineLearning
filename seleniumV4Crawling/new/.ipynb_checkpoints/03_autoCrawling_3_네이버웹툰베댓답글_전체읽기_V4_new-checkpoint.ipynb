{
 "cells": [
  {
   "cell_type": "code",
   "execution_count": 1,
   "id": "838195bd",
   "metadata": {},
   "outputs": [],
   "source": [
    "import warnings\n",
    "warnings.filterwarnings(action='ignore')\n",
    "%config Computer.use_jedi = False\n",
    "from bs4 import BeautifulSoup\n",
    "from selenium import webdriver\n",
    "from selenium.webdriver.chrome.options import Options\n",
    "from selenium.webdriver.common.by import By # selenium 4.x 버전 'BY'를 사용하기 위해 import 한다. \n",
    "import time "
   ]
  },
  {
   "cell_type": "code",
   "execution_count": 3,
   "id": "43a2709f",
   "metadata": {},
   "outputs": [
    {
     "name": "stdout",
     "output_type": "stream",
     "text": [
      "15\n",
      " 1번째 베댓 : 냥군 어떻게 한거야 제발 알려줘\n",
      "================================================================================\n",
      " 2번째 베댓 : 한번도 힘든 앞자리 바꾸기를 두번이나\n",
      "================================================================================\n",
      " 3번째 베댓 : 어쨌든 앞자리 바뀌었네요\n",
      "================================================================================\n",
      " 4번째 베댓 : 대장내시경 미친\n",
      "================================================================================\n",
      " 5번째 베댓 : 아파요...\n",
      "================================================================================\n",
      " 6번째 베댓 : 이와중에 냥군 체중이 우와라고 써 있음ㅋㅋㅋ\n",
      "================================================================================\n",
      " 7번째 베댓 : 헬스장 수익의 9할은 기부금이라는 소문이 있다\n",
      "================================================================================\n",
      " 8번째 베댓 : 뭐야 다이어트 하던 기억을 잃은 환자한테 사진 보여주는 주치의야 뭐야\n",
      "================================================================================\n",
      " 9번째 베댓 : 대장 내시경 ㅋㅋㅋㅋㅋㅋㅋㅋㅋㅋㅋㅋ 획기적인 방법이네요...\n",
      "================================================================================\n",
      "10번째 베댓 : ???: 어떻게 하면 수능 만점을 받을 수 있죠????: 교과서 위주로 공부했어요\n",
      "================================================================================\n",
      "11번째 베댓 : 사람 현실몸은 포샵 못 하고 사람 눈엔 필터 못 끼워요\n",
      "================================================================================\n",
      "12번째 베댓 : 팩폭다발구역입니다\n",
      "================================================================================\n",
      "13번째 베댓 : 미국 미신중에 신부의 드레스차림을 예식 전에 보면 부정탄다는 게 있어서 본식때나 그 모습을 볼 수 있다던데... 신부 입장 하자마자 냅다 우는 남편들 영상 귀여워\n",
      "================================================================================\n",
      "14번째 베댓 : 먹는데 돈을 얼마나 들였는데, 이걸 다 빼라고요?\n",
      "================================================================================\n",
      "15번째 베댓 : 무리하면 이제 다음날부터 운동 거들떠도 보기 싫어짐....\n",
      "================================================================================\n"
     ]
    }
   ],
   "source": [
    "option = Options()\n",
    "option.add_argument('--window-size=1890,1030') # 가상 크롬의 창 크기를 지정한다. \n",
    "driver = webdriver.Chrome('./chromedriver.exe', options=option) # 가상 크롬을 실행한다. \n",
    "driver.implicitly_wait(5)\n",
    "\n",
    "driver.get('https://comic.naver.com/webtoon/detail?titleId=812354&no=22')\n",
    "html = driver.page_source # 가상 크롬에 실행된 사이트의 html 정보를 얻어온다. \n",
    "soup = BeautifulSoup(html,'html.parser')\n",
    "reviews = soup.select('span.u_cbox_contents')\n",
    "print(len(reviews))\n",
    "\n",
    "for i in range(len(reviews)):\n",
    "    print('{:2d}번째 베댓 : {}'.format(i + 1, reviews[i].text))\n",
    "    print('=' * 80)\n",
    "\n",
    "    driver.get(driver.current_url)\n",
    "    # driver.find_element_by_xpath(\n",
    "    driver.find_element(By.XPATH,\n",
    "        '//*[@id=\"cbox_module_wai_u_cbox_content_wrap_tabpanel\"]/ul/li['+ str( i + 1 ) +']/div[1]/div/div[4]/a'\n",
    "    ).click()\n",
    "    time.sleep(0.5)\n",
    "    \n",
    "    while True:\n",
    "        try:\n",
    "           # driver.find_element_by_xpath(\n",
    "            driver.find_element(By.XPATH,\n",
    "                '//*[@id=\"cbox_module_wai_u_cbox_content_wrap_tabpanel\"]/ul/li[{}]/div[2]/div[2]/a'.format( i +1 ) # 1 번째 베댓의 더보기 링크\n",
    "                # '//*[@id=\"cbox_module_wai_u_cbox_content_wrap_tabpanel\"]/ul/li[3]/div[2]/div[2]/a' # 3 번째 베댓의 더보기 링크 \n",
    "            ).click()\n",
    "            time.sleep(0.5)\n",
    "        except:\n",
    "            break\n",
    "            \n",
    "                \n",
    "    html = driver.page_source\n",
    "    soup = BeautifulSoup(html, 'html.parser')\n",
    "    \n",
    "    \n",
    "    replys = soup.select('#cbox_module_wai_u_cbox_content_wrap_tabpanel div.u_cbox_reply_area span.u_cbox_contents')\n",
    "    print(len(replys))\n",
    "    for reply in replys: \n",
    "        print(reply.text.split('\\n'))\n",
    "    \n",
    "    print('{:2d}번째 베댓의 답글 '.format(i + 1))\n",
    "    # 읽은 베댓의 답글을 닫는다. \n",
    "    driver.find_element_by_xpath(\n",
    "        '//*[@id=\"cbox_module_wai_u_cbox_content_wrap_tabpanel\"]/ul/li['+str(i + 1) +']/div[2]/a'\n",
    "    ).click()\n",
    "    print('=' * 80)    \n",
    "    "
   ]
  },
  {
   "cell_type": "code",
   "execution_count": null,
   "id": "ae973e36",
   "metadata": {},
   "outputs": [],
   "source": []
  },
  {
   "cell_type": "code",
   "execution_count": null,
   "id": "91c026a3",
   "metadata": {},
   "outputs": [],
   "source": []
  },
  {
   "cell_type": "code",
   "execution_count": null,
   "id": "57d87509",
   "metadata": {},
   "outputs": [],
   "source": []
  }
 ],
 "metadata": {
  "kernelspec": {
   "display_name": "py37",
   "language": "python",
   "name": "py37"
  },
  "language_info": {
   "codemirror_mode": {
    "name": "ipython",
    "version": 3
   },
   "file_extension": ".py",
   "mimetype": "text/x-python",
   "name": "python",
   "nbconvert_exporter": "python",
   "pygments_lexer": "ipython3",
   "version": "3.7.16"
  }
 },
 "nbformat": 4,
 "nbformat_minor": 5
}
