{
 "cells": [
  {
   "cell_type": "code",
   "execution_count": 1,
   "id": "8703a624",
   "metadata": {},
   "outputs": [],
   "source": [
    "import warnings\n",
    "warnings.filterwarnings(action='ignore')\n",
    "%config Computer.use_jedi = False\n",
    "from bs4 import BeautifulSoup\n",
    "from selenium import webdriver\n",
    "from selenium.webdriver.chrome.options import Options\n",
    "from selenium.webdriver.common.by import By # selenium 4.x 버전 'BY'를 사용하기 위해 import 한다. \n",
    "import time "
   ]
  },
  {
   "cell_type": "code",
   "execution_count": 2,
   "id": "5261e546",
   "metadata": {},
   "outputs": [
    {
     "name": "stdout",
     "output_type": "stream",
     "text": [
      "1518\n",
      "텍스트 파일로 저장완료\n"
     ]
    }
   ],
   "source": [
    "option = Options()\n",
    "option.add_argument('--window-size=1890,1030') \n",
    "driver = webdriver.Chrome('./chromedriver.exe', options=option)  \n",
    "driver.implicitly_wait(5)\n",
    "\n",
    "driver.get('https://comic.naver.com/webtoon/detail?titleId=812354&no=22')\n",
    "html = driver.page_source\n",
    "soup = BeautifulSoup(html,'html.parser')\n",
    "\n",
    "# driver.find_element_by_xpath\n",
    "# driver.find_element(By.XPATH,'//*[@id=\"cbox_module_wai_u_cbox_sort_option_tab2\"]').click()\n",
    "driver.find_element(By.CSS_SELECTOR,'#cbox_module_wai_u_cbox_sort_option_tab2').click()\n",
    "time.sleep(1)\n",
    "\n",
    "while True:\n",
    "    try:\n",
    "        driver.find_element_by_xpath('//*[@id=\"cbox_module\"]/div/div[7]/a').click()\n",
    "        time.sleep(0.5)\n",
    "    except:\n",
    "        break\n",
    "\n",
    "html = driver.page_source\n",
    "soup = BeautifulSoup(html, 'html.parser')\n",
    "\n",
    "replys = soup.select('#cbox_module_wai_u_cbox_content_wrap_tabpanel div.u_cbox_comment_box span.u_cbox_contents')\n",
    "print(len(replys))\n",
    "\n",
    "file = open('review.txt','w',-1,'utf-8')\n",
    "for reply in replys: \n",
    "    # print(reply.text.split('\\n'))\n",
    "    file.write(reply.text + '\\n')\n",
    "file.close()\n",
    "print('텍스트 파일로 저장완료')"
   ]
  }
 ],
 "metadata": {
  "kernelspec": {
   "display_name": "py37",
   "language": "python",
   "name": "py37"
  },
  "language_info": {
   "codemirror_mode": {
    "name": "ipython",
    "version": 3
   },
   "file_extension": ".py",
   "mimetype": "text/x-python",
   "name": "python",
   "nbconvert_exporter": "python",
   "pygments_lexer": "ipython3",
   "version": "3.7.16"
  }
 },
 "nbformat": 4,
 "nbformat_minor": 5
}
