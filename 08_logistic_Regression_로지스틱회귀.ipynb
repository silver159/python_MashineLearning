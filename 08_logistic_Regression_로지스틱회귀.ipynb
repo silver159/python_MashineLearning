{
 "cells": [
  {
   "cell_type": "code",
   "execution_count": 1,
   "id": "42078c52",
   "metadata": {},
   "outputs": [
    {
     "name": "stdout",
     "output_type": "stream",
     "text": [
      "WARNING:tensorflow:From c:\\python\\lib\\site-packages\\tensorflow\\python\\compat\\v2_compat.py:101: disable_resource_variables (from tensorflow.python.ops.variable_scope) is deprecated and will be removed in a future version.\n",
      "Instructions for updating:\n",
      "non-resource variables are not supported in the long term\n"
     ]
    }
   ],
   "source": [
    "import warnings\n",
    "warnings.filterwarnings(action='ignore') \n",
    "%config Completer.use_jedi = False \n",
    "import tensorflow.compat.v1 as tf\n",
    "tf.disable_v2_behavior()\n",
    "import numpy as np\n",
    "import pandas as pd"
   ]
  },
  {
   "cell_type": "markdown",
   "id": "dccebdc2",
   "metadata": {},
   "source": [
    "공부 시간, 과외 시간과 시험 성적 사이의 관계는 좌표로 나타냈을 때 형태가 직선으로 해결되는 선형 회귀를 사용하기에 적합했었다.  \n",
    "공부 시간에 따른 시험 점수가 아닌 합격 여부로 발표되는 시험이 있을 경우 직선으로 해결하기에는 적합하지 못한 문제가 발생된다.  \n",
    "이럴때 사용하는 로지스틱 회귀는 참과 거짓 중에 하나를 내놓는 과정으로 참과 거짓을 구분한 'S'자를 눕혀놓은 형태의 선을 그어주는 작업이다.  "
   ]
  },
  {
   "cell_type": "markdown",
   "id": "4dbb9297",
   "metadata": {},
   "source": [
    "<img src=\"./images/2.png\" width=\"1100\">"
   ]
  },
  {
   "cell_type": "markdown",
   "id": "a6747671",
   "metadata": {},
   "source": [
    "참조  \n",
    "http://taewan.kim/post/sigmoid_diff/  \n",
    "https://devlog.jwgo.kr/2018/04/16/sigmoid-graph-according-to-slope-change/"
   ]
  },
  {
   "cell_type": "code",
   "execution_count": 2,
   "id": "741cfa99",
   "metadata": {},
   "outputs": [
    {
     "name": "stdout",
     "output_type": "stream",
     "text": [
      "공부시간: [2, 4, 6, 8, 10, 12, 14], 합격 여부: [0, 0, 0, 1, 1, 1, 1]\n"
     ]
    }
   ],
   "source": [
    "data = [[2,0], [4,0], [6,0], [8,1], [10,1], [12,1], [14,1]] # [x(공부 시간), y(합격 여부)] (합격 = 1, 불합격 = 0)\n",
    "x = [i[0] for i in data] # 공부 시간\n",
    "y = [i[1] for i in data] # 합격 여부, 실제값\n",
    "print('공부시간: {}, 합격 여부: {}'.format(x,y))"
   ]
  },
  {
   "cell_type": "code",
   "execution_count": 3,
   "id": "bb5dfd59",
   "metadata": {},
   "outputs": [
    {
     "name": "stdout",
     "output_type": "stream",
     "text": [
      "a = [0.71749845], b =[0.10151679]\n"
     ]
    }
   ],
   "source": [
    "# 기울기 a와 y절편 b를 임의로 정한다.\n",
    "a = tf.Variable(tf.random_uniform([1], dtype=tf.float64)) # 기울기(가중치), 0 ~ 1 사이의 난수, 범위 안쓰면...\n",
    "b = tf.Variable(tf.random_uniform([1], dtype=tf.float64)) # y절편(바이어스), 0 ~ 1 사이의 난수\n",
    "sess = tf.Session()\n",
    "sess.run(tf.global_variables_initializer())\n",
    "print('a = {}, b ={}'.format(sess.run(a), sess.run(b)))"
   ]
  },
  {
   "cell_type": "markdown",
   "id": "3f1cb3d0",
   "metadata": {},
   "source": [
    "시그모이드 방정식"
   ]
  },
  {
   "cell_type": "code",
   "execution_count": 4,
   "id": "fdb79a7a",
   "metadata": {},
   "outputs": [],
   "source": [
    "# np.e: 넘파이에서 지수 값(2.718281828459045)을 의미하는 상수\n",
    "# print(np.e)\n",
    "Y = 1 / (1 + np.e ** - (a * x + b))"
   ]
  },
  {
   "cell_type": "markdown",
   "id": "5f97e49d",
   "metadata": {},
   "source": [
    "시그모이드 방정식의 오차를 계산하는 수식을 만든다.  \n",
    "시그모이드 함수의 특성은 예측값(Y)이 항상 0 아니면 1이다."
   ]
  },
  {
   "cell_type": "code",
   "execution_count": 5,
   "id": "dce9a1a6",
   "metadata": {},
   "outputs": [],
   "source": [
    "# 오차 함수를 만든다.\n",
    "loss = - tf.reduce_mean(np.array(y) * tf.log(Y) + (1 - np.array(y)) * tf.log(1 - Y))"
   ]
  },
  {
   "cell_type": "markdown",
   "id": "5d273e41",
   "metadata": {},
   "source": [
    "오차를 최소로 하는 값을 찾는다.  "
   ]
  },
  {
   "cell_type": "code",
   "execution_count": 6,
   "id": "da073303",
   "metadata": {},
   "outputs": [],
   "source": [
    "# 경사 하강법을 이용해서 RMSE를 최소로 하는 값을 찾는 수식을 만든다.\n",
    "gradient_descent = tf.train.GradientDescentOptimizer(0.1).minimize(loss)"
   ]
  },
  {
   "cell_type": "code",
   "execution_count": 7,
   "id": "30d8ed59",
   "metadata": {
    "scrolled": false
   },
   "outputs": [
    {
     "name": "stdout",
     "output_type": "stream",
     "text": [
      "epoch:      0, loss:  1.1247, 기울기:  0.4540, y 절편:  0.7041\n",
      "epoch:   5000, loss:  0.0584, 기울기:  1.5543, y 절편: -10.6917\n",
      "epoch:  10000, loss:  0.0371, 기울기:  2.0074, y 절편: -13.8857\n",
      "epoch:  15000, loss:  0.0274, 기울기:  2.3164, y 절편: -16.0568\n",
      "epoch:  20000, loss:  0.0218, 기울기:  2.5535, y 절편: -17.7207\n",
      "epoch:  25000, loss:  0.0180, 기울기:  2.7463, y 절편: -19.0728\n",
      "epoch:  30000, loss:  0.0154, 기울기:  2.9088, y 절편: -20.2120\n",
      "epoch:  35000, loss:  0.0134, 기울기:  3.0492, y 절편: -21.1961\n",
      "epoch:  40000, loss:  0.0119, 기울기:  3.1728, y 절편: -22.0623\n",
      "epoch:  45000, loss:  0.0106, 기울기:  3.2832, y 절편: -22.8356\n",
      "epoch:  50000, loss:  0.0096, 기울기:  3.3828, y 절편: -23.5338\n",
      "epoch:  55000, loss:  0.0088, 기울기:  3.4737, y 절편: -24.1703\n",
      "epoch:  60000, loss:  0.0081, 기울기:  3.5571, y 절편: -24.7548\n",
      "epoch:  65000, loss:  0.0075, 기울기:  3.6343, y 절편: -25.2953\n",
      "epoch:  70000, loss:  0.0070, 기울기:  3.7061, y 절편: -25.7978\n",
      "epoch:  75000, loss:  0.0066, 기울기:  3.7731, y 절편: -26.2673\n",
      "epoch:  80000, loss:  0.0062, 기울기:  3.8360, y 절편: -26.7079\n",
      "epoch:  85000, loss:  0.0058, 기울기:  3.8952, y 절편: -27.1228\n",
      "epoch:  90000, loss:  0.0055, 기울기:  3.9512, y 절편: -27.5149\n",
      "epoch:  95000, loss:  0.0052, 기울기:  4.0043, y 절편: -27.8865\n",
      "epoch: 100000, loss:  0.0050, 기울기:  4.0547, y 절편: -28.2396\n",
      "epoch: 105000, loss:  0.0047, 기울기:  4.1028, y 절편: -28.5761\n",
      "epoch: 110000, loss:  0.0045, 기울기:  4.1487, y 절편: -28.8974\n",
      "epoch: 115000, loss:  0.0043, 기울기:  4.1925, y 절편: -29.2047\n",
      "epoch: 120000, loss:  0.0042, 기울기:  4.2346, y 절편: -29.4993\n",
      "epoch: 125000, loss:  0.0040, 기울기:  4.2750, y 절편: -29.7821\n",
      "epoch: 130000, loss:  0.0038, 기울기:  4.3139, y 절편: -30.0541\n",
      "epoch: 135000, loss:  0.0037, 기울기:  4.3513, y 절편: -30.3161\n",
      "epoch: 140000, loss:  0.0036, 기울기:  4.3873, y 절편: -30.5687\n",
      "epoch: 145000, loss:  0.0034, 기울기:  4.4222, y 절편: -30.8126\n",
      "epoch: 150000, loss:  0.0033, 기울기:  4.4559, y 절편: -31.0484\n",
      "epoch: 155000, loss:  0.0032, 기울기:  4.4884, y 절편: -31.2765\n",
      "epoch: 160000, loss:  0.0031, 기울기:  4.5200, y 절편: -31.4976\n",
      "epoch: 165000, loss:  0.0030, 기울기:  4.5506, y 절편: -31.7119\n",
      "epoch: 170000, loss:  0.0029, 기울기:  4.5803, y 절편: -31.9200\n",
      "epoch: 175000, loss:  0.0029, 기울기:  4.6092, y 절편: -32.1221\n",
      "epoch: 180000, loss:  0.0028, 기울기:  4.6373, y 절편: -32.3186\n",
      "epoch: 185000, loss:  0.0027, 기울기:  4.6646, y 절편: -32.5097\n",
      "epoch: 190000, loss:  0.0026, 기울기:  4.6912, y 절편: -32.6958\n",
      "epoch: 195000, loss:  0.0026, 기울기:  4.7171, y 절편: -32.8772\n",
      "epoch: 200000, loss:  0.0025, 기울기:  4.7423, y 절편: -33.0540\n",
      "epoch: 205000, loss:  0.0024, 기울기:  4.7669, y 절편: -33.2265\n",
      "epoch: 210000, loss:  0.0024, 기울기:  4.7910, y 절편: -33.3948\n",
      "epoch: 215000, loss:  0.0023, 기울기:  4.8145, y 절편: -33.5593\n",
      "epoch: 220000, loss:  0.0023, 기울기:  4.8374, y 절편: -33.7200\n",
      "epoch: 225000, loss:  0.0022, 기울기:  4.8599, y 절편: -33.8771\n",
      "epoch: 230000, loss:  0.0022, 기울기:  4.8818, y 절편: -34.0308\n",
      "epoch: 235000, loss:  0.0021, 기울기:  4.9033, y 절편: -34.1812\n",
      "epoch: 240000, loss:  0.0021, 기울기:  4.9244, y 절편: -34.3285\n",
      "epoch: 245000, loss:  0.0020, 기울기:  4.9450, y 절편: -34.4728\n",
      "epoch: 250000, loss:  0.0020, 기울기:  4.9652, y 절편: -34.6141\n",
      "epoch: 255000, loss:  0.0020, 기울기:  4.9849, y 절편: -34.7527\n",
      "epoch: 260000, loss:  0.0019, 기울기:  5.0044, y 절편: -34.8886\n",
      "epoch: 265000, loss:  0.0019, 기울기:  5.0234, y 절편: -35.0220\n",
      "epoch: 270000, loss:  0.0019, 기울기:  5.0421, y 절편: -35.1529\n",
      "epoch: 275000, loss:  0.0018, 기울기:  5.0605, y 절편: -35.2813\n",
      "epoch: 280000, loss:  0.0018, 기울기:  5.0785, y 절편: -35.4075\n",
      "epoch: 285000, loss:  0.0018, 기울기:  5.0962, y 절편: -35.5315\n",
      "epoch: 290000, loss:  0.0017, 기울기:  5.1136, y 절편: -35.6533\n",
      "epoch: 295000, loss:  0.0017, 기울기:  5.1307, y 절편: -35.7730\n",
      "epoch: 300000, loss:  0.0017, 기울기:  5.1475, y 절편: -35.8908\n"
     ]
    }
   ],
   "source": [
    "# 학습 시킨다.\n",
    "sess = tf.Session()\n",
    "sess.run(tf.global_variables_initializer())\n",
    "\n",
    "for epoch in range(300001):\n",
    "    sess.run(gradient_descent)    \n",
    "    if epoch % 5000 == 0:\n",
    "        print('epoch: {:6d}, loss: {:7.4f}, 기울기: {:7.4f}, y 절편: {:7.4f}'.format(epoch, sess.run(loss), sess.run(a[0]), sess.run(b[0])))\n",
    "        # print('epoch: %6d, loss: %7.4f, 기울기: %7.4f, y 절편: %7.4f'% (epoch, sess.run(loss), sess.run(a), sess.run(b)))"
   ]
  }
 ],
 "metadata": {
  "kernelspec": {
   "display_name": "Python 3",
   "language": "python",
   "name": "python3"
  },
  "language_info": {
   "codemirror_mode": {
    "name": "ipython",
    "version": 3
   },
   "file_extension": ".py",
   "mimetype": "text/x-python",
   "name": "python",
   "nbconvert_exporter": "python",
   "pygments_lexer": "ipython3",
   "version": "3.6.8"
  }
 },
 "nbformat": 4,
 "nbformat_minor": 5
}
