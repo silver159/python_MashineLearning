{
 "cells": [
  {
   "cell_type": "code",
   "execution_count": 1,
   "id": "f6eddff4",
   "metadata": {},
   "outputs": [
    {
     "name": "stdout",
     "output_type": "stream",
     "text": [
      "WARNING:tensorflow:From c:\\python\\lib\\site-packages\\tensorflow\\python\\compat\\v2_compat.py:101: disable_resource_variables (from tensorflow.python.ops.variable_scope) is deprecated and will be removed in a future version.\n",
      "Instructions for updating:\n",
      "non-resource variables are not supported in the long term\n"
     ]
    }
   ],
   "source": [
    "import warnings\n",
    "warnings.filterwarnings(action='ignore') \n",
    "%config Completer.use_jedi = False \n",
    "import tensorflow.compat.v1 as tf\n",
    "tf.disable_v2_behavior()\n",
    "import numpy as np\n",
    "import pandas as pd"
   ]
  },
  {
   "cell_type": "code",
   "execution_count": 2,
   "id": "82bbcb9c",
   "metadata": {},
   "outputs": [],
   "source": [
    "data = [[2, 0, 81], [4, 4, 93], [6, 2, 91], [8, 3, 97]] # [x1(공부 시간), x2(과외 시간), y(시험 성적)]\n",
    "x1 = [i[0] for i in data] # 공부 시간\n",
    "x2 = [i[1] for i in data] # 과외 시간\n",
    "y = [i[2] for i in data] # 시험 성적, 실제값"
   ]
  },
  {
   "cell_type": "code",
   "execution_count": 3,
   "id": "709b0051",
   "metadata": {},
   "outputs": [
    {
     "name": "stdout",
     "output_type": "stream",
     "text": [
      "a1 = [8.849044], a2 = [1.7564154], b =[3.038776]\n"
     ]
    }
   ],
   "source": [
    "# 기울기 a1, a2와 y절편 b를 임의로 정한다.\n",
    "a1 = tf.Variable(tf.random_uniform([1], 0, 10))\n",
    "a2 = tf.Variable(tf.random_uniform([1], 0, 10))\n",
    "b = tf.Variable(tf.random_uniform([1], 0, 100))\n",
    "sess = tf.Session()\n",
    "sess.run(tf.global_variables_initializer())\n",
    "print('a1 = {}, a2 = {}, b ={}'.format(sess.run(a1), sess.run(a2), sess.run(b)))"
   ]
  },
  {
   "cell_type": "code",
   "execution_count": 4,
   "id": "fee27f5d",
   "metadata": {},
   "outputs": [],
   "source": [
    "# 예측 성적(Y)을 얻기 위한 가설(수식)을 만든다.\n",
    "Y = a1 * x1 + a2 * x2 + b\n",
    "# tensorflow에서 실행할 RMSE(평균 제곱근 오차) 수식(오차 함수)을 만든다.\n",
    "rmse = tf.sqrt(tf.reduce_mean(tf.square(Y - y)))\n",
    "# 경사 하강법을 이용해서 RMSE를 최소로 하는 값을 찾는 수식을 만든다.\n",
    "learning_rate = 0.1\n",
    "gradient_descent = tf.train.GradientDescentOptimizer(learning_rate\n",
    "                    ).minimize(rmse)"
   ]
  },
  {
   "cell_type": "code",
   "execution_count": 5,
   "id": "9293a4b0",
   "metadata": {},
   "outputs": [
    {
     "name": "stdout",
     "output_type": "stream",
     "text": [
      "epoch:    0, RMSE: 32.4241, 기울기 a1:  7.6529, 기울기 a2:  8.8753, y 절편:  7.2646\n",
      "epoch:  200, RMSE: 25.2055, 기울기 a1:  9.9107, 기울기 a2:  6.9132, y 절편: 15.4679\n",
      "epoch:  400, RMSE: 21.9738, 기울기 a1:  9.2254, 기울기 a2:  5.4984, y 절편: 23.3458\n",
      "epoch:  600, RMSE: 18.7948, 기울기 a1:  8.2358, 기울기 a2:  4.7553, y 절편: 31.2220\n",
      "epoch:  800, RMSE: 15.6224, 기울기 a1:  7.1339, 기울기 a2:  4.2606, y 절편: 39.0951\n",
      "epoch: 1000, RMSE: 12.4510, 기울기 a1:  5.9974, 기울기 a2:  3.8428, y 절편: 46.9667\n",
      "epoch: 1200, RMSE:  9.2805, 기울기 a1:  4.8527, 기울기 a2:  3.4437, y 절편: 54.8369\n",
      "epoch: 1400, RMSE:  6.1120, 기울기 a1:  3.7069, 기울기 a2:  3.0477, y 절편: 62.7046\n",
      "epoch: 1600, RMSE:  2.9520, 기울기 a1:  2.5625, 기울기 a2:  2.6526, y 절편: 70.5617\n",
      "epoch: 1800, RMSE:  1.8362, 기울기 a1:  1.4426, 기울기 a2:  2.2380, y 절편: 76.4434\n",
      "epoch: 2000, RMSE:  1.8370, 기울기 a1:  1.2657, 기울기 a2:  2.1756, y 절편: 77.5699\n",
      "epoch: 2200, RMSE:  1.8370, 기울기 a1:  1.2363, 기울기 a2:  2.1654, y 절편: 77.7690\n",
      "epoch: 2400, RMSE:  1.8370, 기울기 a1:  1.2312, 기울기 a2:  2.1636, y 절편: 77.8042\n",
      "epoch: 2600, RMSE:  1.8370, 기울기 a1:  1.2303, 기울기 a2:  2.1633, y 절편: 77.8104\n",
      "epoch: 2800, RMSE:  1.8371, 기울기 a1:  1.2301, 기울기 a2:  2.1633, y 절편: 77.8113\n",
      "epoch: 3000, RMSE:  1.8371, 기울기 a1:  1.2301, 기울기 a2:  2.1633, y 절편: 77.8113\n"
     ]
    }
   ],
   "source": [
    "# 학습 시킨다.\n",
    "sess = tf.Session()\n",
    "sess.run(tf.global_variables_initializer())\n",
    "\n",
    "for epoch in range(3001):\n",
    "    sess.run(gradient_descent)    \n",
    "    if epoch % 200 == 0:\n",
    "        # print('epoch: {:4d}, RMSE: {:7.4f}, 기울기 a1: {:7.4f}, 기울기 a2: {:7.4f}, y 절편: {:7.4f}'.format(epoch, sess.run(rmse), sess.run(a1[0]), sess.run(a2[0]), sess.run(b[0])))\n",
    "        print('epoch: %4d, RMSE: %7.4f, 기울기 a1: %7.4f, 기울기 a2: %7.4f, y 절편: %7.4f'% (epoch, sess.run(rmse), sess.run(a1), sess.run(a2), sess.run(b)))"
   ]
  }
 ],
 "metadata": {
  "kernelspec": {
   "display_name": "Python 3",
   "language": "python",
   "name": "python3"
  },
  "language_info": {
   "codemirror_mode": {
    "name": "ipython",
    "version": 3
   },
   "file_extension": ".py",
   "mimetype": "text/x-python",
   "name": "python",
   "nbconvert_exporter": "python",
   "pygments_lexer": "ipython3",
   "version": "3.6.8"
  }
 },
 "nbformat": 4,
 "nbformat_minor": 5
}
