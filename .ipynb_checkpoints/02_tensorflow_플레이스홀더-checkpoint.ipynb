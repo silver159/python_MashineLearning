{
 "cells": [
  {
   "cell_type": "code",
   "execution_count": 2,
   "id": "25d7f57b",
   "metadata": {},
   "outputs": [],
   "source": [
    "import warnings\n",
    "warnings.filterwarnings(action='ignore') \n",
    "%config Completer.use_jedi = False \n",
    "import tensorflow.compat.v1 as tf # tensorflow 1.x 버전을 사용한다.\n",
    "tf.disable_v2_behavior() # tensorflow 2.x 버전의 문법을 사용하지 않겠다고 선언한다."
   ]
  },
  {
   "cell_type": "markdown",
   "id": "bd8a099f",
   "metadata": {},
   "source": [
    "placeholder는 tensorflow에서 사용하는 여러건의 데이터를 저장하는 일종의 배열(리스트)이다.  \n",
    "placeholder(dtype[, shape, name])  \n",
    "dtype: placeholder에 저장되는 데이터의 자료형  \n",
    "shape: placeholder에 저장되는 데이터의 차원, 생략가능  \n",
    "name: placeholder의 이름, 생략가능  "
   ]
  },
  {
   "cell_type": "code",
   "execution_count": 9,
   "id": "6004492d",
   "metadata": {},
   "outputs": [
    {
     "name": "stdout",
     "output_type": "stream",
     "text": [
      "x = Tensor(\"Placeholder_8:0\", dtype=float32)\n",
      "y = Tensor(\"Placeholder_9:0\", dtype=float32)\n",
      "z = Tensor(\"add_4:0\", dtype=float32)\n",
      "[6. 6. 6. 6. 6.]\n"
     ]
    }
   ],
   "source": [
    "# tensorflow의 placeholder에 저장할 데이터를 선언한다. \n",
    "xData = [1,2,3,4,5]\n",
    "yData = [5,4,3,2,1]\n",
    "\n",
    "# placeholder를 선언한다.\n",
    "x = tf.placeholder(dtype=tf.float32) # xData의 내용을 기억할 placeholder를 선언한다.\n",
    "y = tf.placeholder(dtype=tf.float32) # yData의 내용을 기억할 placeholder를 선언한다.\n",
    "print('x = {}'.format(x))\n",
    "print('y = {}'.format(y))\n",
    "\n",
    "z = x + y # placeholder를 사용하는 수식을 선언한다.\n",
    "print('z = {}'.format(z))\n",
    "\n",
    "sess = tf.Session()\n",
    "\n",
    "# 수식에 사용할 데이터를 placeholder에 대입하고 실행한다.\n",
    "# z라고 정의한 수식을 실행한다. => x, y placeholder에 데이터가 채워져있지 않으면 에러가 발생된다.\n",
    "# 반드시 feed_dict 속성에 딕셔너리 타입을 사용해서 placeholder에 데이터를 채우고 연산을 실행해야 한다.\n",
    "# feed_dict 속성에 넣어주는 딕셔너리는 {placeholder 이름: 데이터, placeholder 이름: 데이터, ...}와 같은 형식으로 만들어 사용하며 데이터에는 리스트 또는 튜플 타입의 데이터를 넣어준다.\n",
    "result = sess.run(z, feed_dict={x:xData, y:yData})\n",
    "print(result)"
   ]
  },
  {
   "cell_type": "code",
   "execution_count": null,
   "id": "55b1283f",
   "metadata": {},
   "outputs": [],
   "source": [
    "# Session을 만들고 변수를 초기화 시킨다.\n",
    "sess = tf.Session()\n",
    "sess.run(tf.global_variables_initializer())\n",
    "\n",
    "for i in range(5001):\n",
    "    # 오차 함수의 결과를 가장 작게 만드는 학습을 할 수 있도록 placeholder에 데이터를 대입하고 학습시킨다.\n",
    "    # 학습할 데이터는 반드시 placeholder의 feed_dict 속성에 딕셔너리 타입으로 대입시켜야 한다."
   ]
  },
  {
   "cell_type": "code",
   "execution_count": null,
   "id": "dfb74703",
   "metadata": {},
   "outputs": [],
   "source": []
  },
  {
   "cell_type": "code",
   "execution_count": null,
   "id": "92c12b1f",
   "metadata": {},
   "outputs": [],
   "source": []
  },
  {
   "cell_type": "code",
   "execution_count": null,
   "id": "829b9d4b",
   "metadata": {},
   "outputs": [],
   "source": []
  }
 ],
 "metadata": {
  "kernelspec": {
   "display_name": "Python 3",
   "language": "python",
   "name": "python3"
  },
  "language_info": {
   "codemirror_mode": {
    "name": "ipython",
    "version": 3
   },
   "file_extension": ".py",
   "mimetype": "text/x-python",
   "name": "python",
   "nbconvert_exporter": "python",
   "pygments_lexer": "ipython3",
   "version": "3.6.8"
  }
 },
 "nbformat": 4,
 "nbformat_minor": 5
}
