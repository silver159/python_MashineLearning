{
 "cells": [
  {
   "cell_type": "code",
   "execution_count": 1,
   "id": "d163333d",
   "metadata": {},
   "outputs": [],
   "source": [
    "import warnings\n",
    "warnings.filterwarnings(action='ignore')\n",
    "%config Computer.use_jedi = False \n",
    "import numpy as np\n",
    "import pandas as pd\n",
    "import matplotlib.pyplot as plt\n",
    "import seaborn as sns\n",
    "from sklearn.model_selection import train_test_split\n",
    "from sklearn.metrics import accuracy_score\n",
    "from sklearn.metrics import confusion_matrix\n",
    "from sklearn.metrics import classification_report"
   ]
  },
  {
   "cell_type": "code",
   "execution_count": 2,
   "id": "a8cb0e4b",
   "metadata": {},
   "outputs": [],
   "source": [
    "from sklearn.datasets import load_digits # MNIST 손글씨 데이터셋\n",
    "from sklearn.neighbors import KNeighborsClassifier # kNN\n",
    "from sklearn.svm import SVC # SVM\n",
    "from sklearn.tree import DecisionTreeClassifier # 의사 결정 트리\n",
    "# 하드/소프트 보팅을 계산하기 위해 import 한다.\n",
    "from sklearn.ensemble import VotingClassifier"
   ]
  },
  {
   "cell_type": "markdown",
   "id": "36cbc44a",
   "metadata": {},
   "source": [
    "손글씨 데이터를 불러온다."
   ]
  },
  {
   "cell_type": "code",
   "execution_count": 3,
   "id": "72a17671",
   "metadata": {},
   "outputs": [
    {
     "name": "stdout",
     "output_type": "stream",
     "text": [
      "(1797, 64) (1797,)\n"
     ]
    }
   ],
   "source": [
    "mnist = load_digits()\n",
    "features, labels = mnist.data, mnist.target\n",
    "print(features.shape, labels.shape)"
   ]
  },
  {
   "cell_type": "markdown",
   "id": "7bebbde8",
   "metadata": {},
   "source": [
    "학습 데이터와 테스트 데이터를 나눈다."
   ]
  },
  {
   "cell_type": "code",
   "execution_count": 4,
   "id": "3d678c5a",
   "metadata": {},
   "outputs": [
    {
     "name": "stdout",
     "output_type": "stream",
     "text": [
      "학습 데이터 개수: 1437, 테스트 데이터 개수: 360\n"
     ]
    }
   ],
   "source": [
    "X_train, X_test, y_train, y_test = train_test_split(features, labels, train_size=0.8)\n",
    "print('학습 데이터 개수: {}, 테스트 데이터 개수: {}'.format(X_train.shape[0], X_test.shape[0]))"
   ]
  },
  {
   "cell_type": "markdown",
   "id": "d4505330",
   "metadata": {},
   "source": [
    "단일 모델의 정확도 측정  \n",
    "앙상블 정확도를 측정하기에 앞서서 단일 모델들의 정확도를 kNN, SVC, 의사결정 트리 분류기를 만들어 정확도를 계산한다."
   ]
  },
  {
   "cell_type": "code",
   "execution_count": 5,
   "id": "410f477e",
   "metadata": {},
   "outputs": [
    {
     "name": "stdout",
     "output_type": "stream",
     "text": [
      "kNN 정확도: 85.56%\n"
     ]
    }
   ],
   "source": [
    "# kNN\n",
    "knn = KNeighborsClassifier(n_neighbors=299).fit(X_train, y_train)\n",
    "knn_predict = knn.predict(X_test) # 테스트 데이터를 사용해서 모델의 예측값을 얻어온다.\n",
    "print('kNN 정확도: {:6.2%}'.format(accuracy_score(y_test, knn_predict)))"
   ]
  },
  {
   "cell_type": "code",
   "execution_count": 6,
   "id": "3ade03ea",
   "metadata": {},
   "outputs": [
    {
     "name": "stdout",
     "output_type": "stream",
     "text": [
      "SVM 정확도: 91.94%\n"
     ]
    }
   ],
   "source": [
    "# SVM\n",
    "svm = SVC(C=0.1, gamma=0.003, random_state=35, probability=True).fit(X_train, y_train)\n",
    "svm_predict = svm.predict(X_test) \n",
    "print('SVM 정확도: {:6.2%}'.format(accuracy_score(y_test, svm_predict)))"
   ]
  },
  {
   "cell_type": "code",
   "execution_count": 7,
   "id": "42cd9319",
   "metadata": {},
   "outputs": [
    {
     "name": "stdout",
     "output_type": "stream",
     "text": [
      "의사 결정 트리 정확도: 83.06%\n"
     ]
    }
   ],
   "source": [
    "# 의사 결정 트리\n",
    "dtree = DecisionTreeClassifier(random_state=35, max_depth = 8).fit(X_train, y_train)\n",
    "dtree_predict = dtree.predict(X_test) \n",
    "print('의사 결정 트리 정확도: {:6.2%}'.format(accuracy_score(y_test, dtree_predict)))"
   ]
  },
  {
   "cell_type": "markdown",
   "id": "21f8c898",
   "metadata": {},
   "source": [
    "확률 합계"
   ]
  },
  {
   "cell_type": "code",
   "execution_count": 9,
   "id": "ee0039bc",
   "metadata": {},
   "outputs": [
    {
     "name": "stdout",
     "output_type": "stream",
     "text": [
      "[0.19397993 0.         0.         0.21070234 0.         0.13377926\n",
      " 0.         0.         0.10702341 0.35451505]\n",
      "kNN 확률 합계: 1.0\n"
     ]
    }
   ],
   "source": [
    "# predict_proba() 메소드로 분류 모델이 각 클래스(타겟, 레이블, 실제값)의 확률을 계산한다.\n",
    "knn_proba = knn.predict_proba(X_test)\n",
    "# print(len(knn_proba))\n",
    "print(knn_proba[0])\n",
    "print('kNN 확률 합계: {}'.format(knn_proba[0].sum()))"
   ]
  },
  {
   "cell_type": "code",
   "execution_count": 10,
   "id": "a9aa0ae0",
   "metadata": {},
   "outputs": [
    {
     "name": "stdout",
     "output_type": "stream",
     "text": [
      "[0.00223303 0.00365676 0.00416127 0.01321795 0.00262732 0.01399313\n",
      " 0.00120858 0.002218   0.032415   0.92426896]\n",
      "SVM 확률 합계: 0.9999999999999992\n"
     ]
    }
   ],
   "source": [
    "svm_proba = svm.predict_proba(X_test)\n",
    "print(svm_proba[0])\n",
    "print('SVM 확률 합계: {}'.format(svm_proba[0].sum()))"
   ]
  },
  {
   "cell_type": "code",
   "execution_count": 11,
   "id": "a661b419",
   "metadata": {},
   "outputs": [
    {
     "name": "stdout",
     "output_type": "stream",
     "text": [
      "[0.         0.04225352 0.         0.         0.         0.02816901\n",
      " 0.         0.         0.01408451 0.91549296]\n",
      "의사 결정 트리 확률 합계: 1.0\n"
     ]
    }
   ],
   "source": [
    "dtree_proba = dtree.predict_proba(X_test)\n",
    "print(dtree_proba[0])\n",
    "print('의사 결정 트리 확률 합계: {}'.format(dtree_proba[0].sum()))"
   ]
  },
  {
   "cell_type": "markdown",
   "id": "33613068",
   "metadata": {},
   "source": [
    "하드 보팅  \n",
    "일반적인 투표와 같이 각 분류기의 예측값들을 모아 가장 많은 투표를 받은 예측값으로 최종 결론을 내린다.  "
   ]
  },
  {
   "cell_type": "code",
   "execution_count": 8,
   "id": "3a430b5b",
   "metadata": {},
   "outputs": [
    {
     "name": "stdout",
     "output_type": "stream",
     "text": [
      "하드 보팅 정확도: 93.33%\n"
     ]
    }
   ],
   "source": [
    "hv_clf = VotingClassifier(estimators=[('knn', knn), ('svm', svm), ('decision_tree', dtree)], \n",
    "                          weights=[1, 1, 1], voting='hard').fit(X_train, y_train)\n",
    "hv_predict = hv_clf.predict(X_test) \n",
    "print('하드 보팅 정확도: {:6.2%}'.format(accuracy_score(y_test, hv_predict)))"
   ]
  },
  {
   "cell_type": "markdown",
   "id": "03f9994d",
   "metadata": {},
   "source": [
    "소프트 보팅  \n",
    "각 분류값별 확률을 더해준 값을 점수로 사용해 최대 점수를 가진 분류값을 결론으로 도출한다.  "
   ]
  },
  {
   "cell_type": "code",
   "execution_count": 12,
   "id": "78787c12",
   "metadata": {},
   "outputs": [
    {
     "name": "stdout",
     "output_type": "stream",
     "text": [
      "소프트 보팅 정확도: 89.44%\n"
     ]
    }
   ],
   "source": [
    "sv_clf = VotingClassifier(estimators=[('knn', knn), ('svm', svm), ('decision_tree', dtree)], \n",
    "                          weights=[1, 1, 1], voting='soft').fit(X_train, y_train)\n",
    "sv_predict = sv_clf.predict(X_test) \n",
    "print('소프트 보팅 정확도: {:6.2%}'.format(accuracy_score(y_test, sv_predict)))"
   ]
  },
  {
   "cell_type": "markdown",
   "id": "08ae6ae4",
   "metadata": {},
   "source": [
    "단일 모델과 앙상블 모델의 정확도 비교 시각화"
   ]
  },
  {
   "cell_type": "code",
   "execution_count": 13,
   "id": "f640278e",
   "metadata": {},
   "outputs": [
    {
     "data": {
      "image/png": "[encoded data removed]",
      "text/plain": [
       "<Figure size 864x576 with 1 Axes>"
      ]
     },
     "metadata": {
      "needs_background": "light"
     },
     "output_type": "display_data"
    }
   ],
   "source": [
    "plt.figure(figsize=(12, 8))\n",
    "x = np.arange(5)\n",
    "plt.bar(x, height=[\n",
    "    accuracy_score(y_test, knn_predict),\n",
    "    accuracy_score(y_test, svm_predict),\n",
    "    accuracy_score(y_test, dtree_predict),\n",
    "    accuracy_score(y_test, hv_predict),\n",
    "    accuracy_score(y_test, sv_predict)\n",
    "])\n",
    "plt.xticks(x, ['knn', 'svm', 'decision_tree', 'hard_voting', 'soft_voting'])\n",
    "plt.show()"
   ]
  }
 ],
 "metadata": {
  "kernelspec": {
   "display_name": "Python 3",
   "language": "python",
   "name": "python3"
  },
  "language_info": {
   "codemirror_mode": {
    "name": "ipython",
    "version": 3
   },
   "file_extension": ".py",
   "mimetype": "text/x-python",
   "name": "python",
   "nbconvert_exporter": "python",
   "pygments_lexer": "ipython3",
   "version": "3.6.8"
  }
 },
 "nbformat": 4,
 "nbformat_minor": 5
}
