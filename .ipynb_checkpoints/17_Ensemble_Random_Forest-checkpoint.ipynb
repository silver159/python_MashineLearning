{
 "cells": [
  {
   "cell_type": "markdown",
   "id": "03b5953b",
   "metadata": {},
   "source": [
    "앙상블(Ensemble)\n",
    "\n",
    "앙상블 기법이란 여러 개의 분류 모델을 조합해서 더 나은 성능을 얻어내는 방법이다.  \n",
    "최근접 이웃, 서포트 벡터 머신, 의사 결정 트리, 나이브 베이즈 분류 모델을 실습했는데 지금까지 실습한 여러 분류 모델을 조합해서 단일 모델보다 더 좋은 성능을 낸다."
   ]
  },
  {
   "cell_type": "markdown",
   "id": "447b3fc7",
   "metadata": {},
   "source": [
    "배깅(Bagging)\n",
    "\n",
    "배깅의 어원은 부트스트랩(bootstrap)과 어그리게이팅(aggregating, 집계)에서 왔고 상당히 연주하기 힘든 바이올린 연주곡을 두 세 명의 초급 바이올린 연주자가 나누어 연주함으로써 한 명의 중급 바이올린 연주자가 연주하는 것보다 더 나은 연주를 할 수 있는 것과 유사하다.  \n",
    "중급 바이올린 연주자는 나름 잘 학습했지만 학습 데이터에 과대 적합된 의사 결정 트리라 볼 수 있다. 의사 결정 트리의 단점은 쉽게 과대 적합된다는 것인데 배깅은 과대 적합이 쉬운 모델에 상당히 적합한 앙상블이다.  \n",
    "배깅은 한 가지 분류 모델을 여러 개 만들어서 서로 다른 학습 데이터로 학습시킨 후(부트스트랩), 동일한 테스트 데이터에 대한 서로 다른 예측값들을 투표를 통해(어그리게이팅) 가장 높은 예측값으로 최종 결론을 내리는 앙상블 기법이다. "
   ]
  },
  {
   "cell_type": "markdown",
   "id": "4ee437f0",
   "metadata": {},
   "source": [
    "<img src=\"./images/10.png\" width=\"1200\">"
   ]
  },
  {
   "cell_type": "markdown",
   "id": "45bca735",
   "metadata": {},
   "source": [
    "<img src=\"./images/11.png\" width=\"800\">"
   ]
  },
  {
   "cell_type": "markdown",
   "id": "fa3b6c64",
   "metadata": {},
   "source": [
    "<img src=\"./images/12.png\" width=\"1000\">"
   ]
  },
  {
   "cell_type": "markdown",
   "id": "8f9a3201",
   "metadata": {},
   "source": [
    "랜덤 포레스트(Random Forest)\n",
    "\n",
    "여러 의사 결정 트리를 배깅을 적용해서 예측을 실행하는 모델이다.  \n",
    "배깅은 모든 분류 모델에 적용 가능하지만 특히 과대 적합되기 쉬운 의사 결정 트리에 사용하면 확실히 과대 적합을 줄여 성능이 높아지는 혜택을 보기 때문에 배깅은 많은 의사 결정 트리 모델의 개선을 이뤘고 여러 개의 나무들이 모여있다는 개념에서 랜덤 포레스트라는 이름이 생겨났다.\n",
    "\n",
    "의사 결정 트리에서 최적의 특징으로 트리를 분기하는 반면 랜덤 포레스트는 각 노드에 주어진 데이터를 샘플링해서 일부 데이터를 제외한 채 최적의 특징을 찾아 트리를 분기한다. 이러한 과정에서 랜덤 포레스트는 또 한 번 모델의 편향을 증가시켜 과대 적합의 위험을 감소시킨다.  "
   ]
  },
  {
   "cell_type": "markdown",
   "id": "6f88e601",
   "metadata": {},
   "source": [
    "부스팅(Boosting)\n",
    "\n",
    "여래 개의 분류기를 만들어 투표를 통해 예측값을 결정한다는 측면에서는 배깅과 동일하다.  \n",
    "배깅은 서로 다른 알고리즘에 기반한 여러 분류기를 병렬적으로 학습하는 반면에 부스팅은 동일한 알고리즘의 분류기를 순차적으로 학습해서 여러 개의 분류기를 만든 후 테스트할 때 가중 투표를 통해 예측값을 결정한다.  "
   ]
  },
  {
   "cell_type": "code",
   "execution_count": 1,
   "id": "40d32e64",
   "metadata": {},
   "outputs": [],
   "source": [
    "import warnings\n",
    "warnings.filterwarnings(action='ignore')\n",
    "%config Computer.use_jedi = False \n",
    "import numpy as np\n",
    "import pandas as pd\n",
    "import matplotlib.pyplot as plt\n",
    "import seaborn as sns\n",
    "from sklearn.model_selection import train_test_split\n",
    "from sklearn.metrics import accuracy_score\n",
    "from sklearn.metrics import confusion_matrix\n",
    "from sklearn.metrics import classification_report"
   ]
  },
  {
   "cell_type": "markdown",
   "id": "e0e4135e",
   "metadata": {},
   "source": [
    "MNIST 손글씨 데이터셋으로 랜덤 포레스트 모델과 의사 결정 트리 모델을 동일하게 학습시켜 두 모델의 성능 차이를 시각화해 비교한다.  "
   ]
  },
  {
   "cell_type": "markdown",
   "id": "f6fe7d90",
   "metadata": {},
   "source": [
    "MNIST 손글씨 데이터 불러오기"
   ]
  },
  {
   "cell_type": "code",
   "execution_count": 2,
   "id": "495d47b2",
   "metadata": {},
   "outputs": [],
   "source": [
    "# 사이킷런이 제공하는 MNIST 손글씨 데이터를 불러오기 위해 import 한다.\n",
    "from sklearn.datasets import load_digits\n",
    "# 교차 검증을 실행하기 위해서 import 한다.\n",
    "from sklearn.model_selection import cross_val_score\n",
    "# 사이킷런의 의사 결정 트리를 사용하기 위해 import 한다.\n",
    "from sklearn.tree import DecisionTreeClassifier\n",
    "# 사이킷런의 랜덤 포레스트를 사용하기 위해 import 한다.\n",
    "from sklearn.ensemble import RandomForestClassifier"
   ]
  },
  {
   "cell_type": "code",
   "execution_count": 3,
   "id": "a2224571",
   "metadata": {},
   "outputs": [
    {
     "name": "stdout",
     "output_type": "stream",
     "text": [
      "(1797, 64) (1797,)\n"
     ]
    }
   ],
   "source": [
    "mnist = load_digits() # 사이킷런이 제공하는 MNIST 손글씨 데이터를 불러온다.\n",
    "# print(mnist)\n",
    "# features = mnist.data\n",
    "# labels = mnist.target\n",
    "features, labels = mnist.data, mnist.target\n",
    "print(features.shape, labels.shape)"
   ]
  },
  {
   "cell_type": "code",
   "execution_count": 4,
   "id": "404d6dca",
   "metadata": {},
   "outputs": [
    {
     "name": "stdout",
     "output_type": "stream",
     "text": [
      "[[ 0.  0.  5. 13.  9.  1.  0.  0.]\n",
      " [ 0.  0. 13. 15. 10. 15.  5.  0.]\n",
      " [ 0.  3. 15.  2.  0. 11.  8.  0.]\n",
      " [ 0.  4. 12.  0.  0.  8.  8.  0.]\n",
      " [ 0.  5.  8.  0.  0.  9.  8.  0.]\n",
      " [ 0.  4. 11.  0.  1. 12.  7.  0.]\n",
      " [ 0.  2. 14.  5. 10. 12.  0.  0.]\n",
      " [ 0.  0.  6. 13. 10.  0.  0.  0.]] 0\n"
     ]
    }
   ],
   "source": [
    "# print(type(features[0])) # <class 'numpy.ndarray'>\n",
    "print(features[0].reshape(8,8), labels[0]) # 0"
   ]
  },
  {
   "cell_type": "markdown",
   "id": "12322645",
   "metadata": {},
   "source": [
    "교차 검증"
   ]
  },
  {
   "cell_type": "markdown",
   "id": "e8dc6769",
   "metadata": {},
   "source": [
    "10-fold 교차 검증  \n",
    "  \n",
    "학습 데이터를 10개의 조각으로 나누고 1조각을 검증 데이터로 사용하고 나머지 9조각을 학습 데이터로 사용해서 1번째 조각부터 10번째 조각까지 1번씩 검증하고 10번의 검증 결과를 10으로 나눈 평균값을 검증 결과 점수로 한다.\n",
    "\n",
    "cross_val_score(model, X, Y, scoring=None, cv=None)  \n",
    "model: 분석 모델  \n",
    "X: 독립 변수, 학습 데이터(피처)  \n",
    "Y: 종속 변수, 학습 결과(실제값, 레이블, 타겟)  \n",
    "scoring: 성능 검증에 사용할 매개 변수로 원하는 평가 지표를 지정한다. => 정확도를 의미하는 'accuracy'를 지정한다.  \n",
    "cv: 교차 검증 생성기 객체 또는 숫자, None이면 KFold(3), 숫자를 지정하면 KFold(숫자)  "
   ]
  },
  {
   "cell_type": "markdown",
   "id": "72f48bf5",
   "metadata": {},
   "source": [
    "MNIST 손글씨 데이터에 대한 의사 결정 트리와 랜덤 포레스트의 검증 정확도를 계산하는 함수  "
   ]
  },
  {
   "cell_type": "code",
   "execution_count": 5,
   "id": "c1a7196e",
   "metadata": {},
   "outputs": [],
   "source": [
    "# cross _validation(분류기 모델, 학습 데이터, 학습 데이터에 따른 레이블)\n",
    "def cross_validation(classifier, features, labels):\n",
    "    cv_scores = []\n",
    "    # 10-fold 교차 검증을 각 k값을 대상으로 실행해서 검증 결과를 저장한다.\n",
    "    for k in range(10):\n",
    "        scores = cross_val_score(classifier, features, labels, scoring='accuracy', cv=10) # 10-fold 교차 검증\n",
    "        # print(scores, scores.mean())\n",
    "        cv_scores.append(scores.mean())\n",
    "    return cv_scores"
   ]
  },
  {
   "cell_type": "markdown",
   "id": "5c3f3282",
   "metadata": {},
   "source": [
    "의사 결정 트리의 MNIST 손글씨 검증 정확도를 계산한다."
   ]
  },
  {
   "cell_type": "code",
   "execution_count": 6,
   "id": "3c86537e",
   "metadata": {},
   "outputs": [],
   "source": [
    "dt_cv_scores = cross_validation(DecisionTreeClassifier(), features, labels)"
   ]
  },
  {
   "cell_type": "code",
   "execution_count": 7,
   "id": "05b26ed9",
   "metadata": {
    "scrolled": true
   },
   "outputs": [
    {
     "name": "stdout",
     "output_type": "stream",
     "text": [
      " 1. 0.83192  2. 0.82247  3. 0.81858  4. 0.82804  5. 0.82692  6. 0.82637  7. 0.82468  8. 0.82969  9. 0.83081 10. 0.82137 "
     ]
    }
   ],
   "source": [
    "for i in range(len(dt_cv_scores)):\n",
    "    print('{:2d}. {:7.5f}'.format(i + 1, dt_cv_scores[i]), end=' ')"
   ]
  },
  {
   "cell_type": "markdown",
   "id": "2e96b7db",
   "metadata": {},
   "source": [
    "랜덤 포레스트의 MNIST 손글씨 검증 정확도를 계산한다."
   ]
  },
  {
   "cell_type": "code",
   "execution_count": 8,
   "id": "297df4b3",
   "metadata": {},
   "outputs": [],
   "source": [
    "rf_cv_scores = cross_validation(RandomForestClassifier(), features, labels)"
   ]
  },
  {
   "cell_type": "code",
   "execution_count": 9,
   "id": "78dfe83c",
   "metadata": {},
   "outputs": [
    {
     "name": "stdout",
     "output_type": "stream",
     "text": [
      " 1. 0.94546  2. 0.94825  3. 0.95047  4. 0.95102  5. 0.94658  6. 0.94878  7. 0.94713  8. 0.94713  9. 0.95157 10. 0.94991 "
     ]
    }
   ],
   "source": [
    "for i in range(len(rf_cv_scores)):\n",
    "    print('{:2d}. {:7.5f}'.format(i + 1, rf_cv_scores[i]), end=' ')"
   ]
  },
  {
   "cell_type": "markdown",
   "id": "74683f58",
   "metadata": {},
   "source": [
    "의사 결정 트리 vs 랜덤 포레스트 시각화"
   ]
  },
  {
   "cell_type": "code",
   "execution_count": 10,
   "id": "6cd516c1",
   "metadata": {},
   "outputs": [
    {
     "data": {
      "text/html": [
       "<div>\n",
       "<style scoped>\n",
       "    .dataframe tbody tr th:only-of-type {\n",
       "        vertical-align: middle;\n",
       "    }\n",
       "\n",
       "    .dataframe tbody tr th {\n",
       "        vertical-align: top;\n",
       "    }\n",
       "\n",
       "    .dataframe thead th {\n",
       "        text-align: right;\n",
       "    }\n",
       "</style>\n",
       "<table border=\"1\" class=\"dataframe\">\n",
       "  <thead>\n",
       "    <tr style=\"text-align: right;\">\n",
       "      <th></th>\n",
       "      <th>decision_tree</th>\n",
       "      <th>random_forest</th>\n",
       "    </tr>\n",
       "  </thead>\n",
       "  <tbody>\n",
       "    <tr>\n",
       "      <th>0</th>\n",
       "      <td>0.831918</td>\n",
       "      <td>0.945462</td>\n",
       "    </tr>\n",
       "    <tr>\n",
       "      <th>1</th>\n",
       "      <td>0.822471</td>\n",
       "      <td>0.948250</td>\n",
       "    </tr>\n",
       "    <tr>\n",
       "      <th>2</th>\n",
       "      <td>0.818582</td>\n",
       "      <td>0.950466</td>\n",
       "    </tr>\n",
       "    <tr>\n",
       "      <th>3</th>\n",
       "      <td>0.828035</td>\n",
       "      <td>0.951024</td>\n",
       "    </tr>\n",
       "    <tr>\n",
       "      <th>4</th>\n",
       "      <td>0.826918</td>\n",
       "      <td>0.946577</td>\n",
       "    </tr>\n",
       "    <tr>\n",
       "      <th>5</th>\n",
       "      <td>0.826369</td>\n",
       "      <td>0.948783</td>\n",
       "    </tr>\n",
       "    <tr>\n",
       "      <th>6</th>\n",
       "      <td>0.824683</td>\n",
       "      <td>0.947129</td>\n",
       "    </tr>\n",
       "    <tr>\n",
       "      <th>7</th>\n",
       "      <td>0.829690</td>\n",
       "      <td>0.947129</td>\n",
       "    </tr>\n",
       "    <tr>\n",
       "      <th>8</th>\n",
       "      <td>0.830813</td>\n",
       "      <td>0.951570</td>\n",
       "    </tr>\n",
       "    <tr>\n",
       "      <th>9</th>\n",
       "      <td>0.821366</td>\n",
       "      <td>0.949913</td>\n",
       "    </tr>\n",
       "  </tbody>\n",
       "</table>\n",
       "</div>"
      ],
      "text/plain": [
       "   decision_tree  random_forest\n",
       "0       0.831918       0.945462\n",
       "1       0.822471       0.948250\n",
       "2       0.818582       0.950466\n",
       "3       0.828035       0.951024\n",
       "4       0.826918       0.946577\n",
       "5       0.826369       0.948783\n",
       "6       0.824683       0.947129\n",
       "7       0.829690       0.947129\n",
       "8       0.830813       0.951570\n",
       "9       0.821366       0.949913"
      ]
     },
     "execution_count": 10,
     "metadata": {},
     "output_type": "execute_result"
    }
   ],
   "source": [
    "dv_dict = {'decision_tree': dt_cv_scores, 'random_forest': rf_cv_scores}\n",
    "df = pd.DataFrame(dv_dict)\n",
    "df"
   ]
  },
  {
   "cell_type": "code",
   "execution_count": 11,
   "id": "a64ec175",
   "metadata": {},
   "outputs": [
    {
     "data": {
      "image/png": "[encoded data removed]",
      "text/plain": [
       "<Figure size 432x288 with 1 Axes>"
      ]
     },
     "metadata": {
      "needs_background": "light"
     },
     "output_type": "display_data"
    }
   ],
   "source": [
    "df.plot()\n",
    "plt.show()"
   ]
  },
  {
   "cell_type": "markdown",
   "id": "018fdc2d",
   "metadata": {},
   "source": [
    "최종 정확도"
   ]
  },
  {
   "cell_type": "code",
   "execution_count": 12,
   "id": "e6d3ee49",
   "metadata": {},
   "outputs": [
    {
     "name": "stdout",
     "output_type": "stream",
     "text": [
      "의사 결정 트리: 82.608%\n",
      "랜덤 포레스트: 94.863%\n"
     ]
    }
   ],
   "source": [
    "print('의사 결정 트리: {:.3%}'.format(np.mean(dt_cv_scores)))\n",
    "print('랜덤 포레스트: {:.3%}'.format(np.mean(rf_cv_scores)))"
   ]
  }
 ],
 "metadata": {
  "kernelspec": {
   "display_name": "Python 3",
   "language": "python",
   "name": "python3"
  },
  "language_info": {
   "codemirror_mode": {
    "name": "ipython",
    "version": 3
   },
   "file_extension": ".py",
   "mimetype": "text/x-python",
   "name": "python",
   "nbconvert_exporter": "python",
   "pygments_lexer": "ipython3",
   "version": "3.6.8"
  }
 },
 "nbformat": 4,
 "nbformat_minor": 5
}
