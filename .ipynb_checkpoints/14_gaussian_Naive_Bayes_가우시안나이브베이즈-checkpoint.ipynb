{
 "cells": [
  {
   "cell_type": "markdown",
   "id": "54daaf51",
   "metadata": {},
   "source": [
    "나이브 베이즈(naive bayes)\n",
    "\n",
    "확률 기반 머신러닝 분류 알고리즘으로 데이터를 나이브(단순)하고 독립적인 사건으로 가정하고 이 독립 사건들을 베이즈 이론( https://angeloyeo.github.io/2020/01/09/Bayes_rule.html )에 대입시켜 가장 높은 확률의 레이블(타겟)로 분류를 실행하는 알고리즘이다.\n",
    "\n",
    "가우시안 나이브 베이즈(Gaussian Naive Bayes)\n",
    "\n",
    "분류 특징들의 값이 정규(가우시안) 분포되어 있다는 가정하에 조건부 확률을 계산하며 연속적인 성질이 있는 특성 데이터를 분류하는데 적합하다. \n",
    "\n",
    "$$P(A|B) = \\frac{P(B|A)P(A)}{P(B)}$$\n",
    "\n",
    "P(A): 어떤 사건 A가 일어날 확률  \n",
    "P(B): 어떤 사건 B가 일어날 확률  \n",
    "P(A|B): 어떤 사건 B가 일어났을 때 사건 A가 일어날 확률  \n",
    "P(B|A): 어떤 사건 A가 일어났을 때 사건 B가 일어날 확률  "
   ]
  },
  {
   "cell_type": "markdown",
   "id": "5ac87c20",
   "metadata": {},
   "source": [
    "<img src=\"./images/naive_bayes.png\" width=\"1000\">"
   ]
  },
  {
   "cell_type": "markdown",
   "id": "6d6c09a0",
   "metadata": {},
   "source": [
    "<img src=\"./images/naive_bayes2.png\" width=\"1000\">"
   ]
  },
  {
   "cell_type": "markdown",
   "id": "97ee6540",
   "metadata": {},
   "source": [
    "<img src=\"./images/naive_bayes3.png\" width=\"1000\">"
   ]
  },
  {
   "cell_type": "markdown",
   "id": "055a9ce2",
   "metadata": {},
   "source": [
    "베르누이 나이브 베이즈(Berniulli Naive Bayes)  \n",
    "\n",
    "분류 데이터의 특징이 0 또는 1로 표현되었을 때 데이터의 출현 여부에 따라서 0 또는 1로 구분되는 데이터에 사용한다.  "
   ]
  },
  {
   "cell_type": "markdown",
   "id": "251090d3",
   "metadata": {},
   "source": [
    "다항분포 나이브 베이즈(Multinimial Naive Bayes)  \n",
    "\n",
    "분류 데이터의 특징이 출현 회수로 표현되었을 때 데이터의 출현 횟수에 따라 값을 달리하는 데이터에 사용한다."
   ]
  },
  {
   "cell_type": "code",
   "execution_count": 1,
   "id": "c9656b6f",
   "metadata": {},
   "outputs": [],
   "source": [
    "import warnings\n",
    "warnings.filterwarnings(action='ignore')\n",
    "%config Computer.use_jedi = False \n",
    "import numpy as np\n",
    "import pandas as pd\n",
    "import matplotlib.pyplot as plt\n",
    "import seaborn as sns\n",
    "from sklearn.model_selection import train_test_split\n",
    "from sklearn.metrics import accuracy_score\n",
    "# 혼돈 행렬을 확인하기 위해 import 한다.\n",
    "from sklearn.metrics import confusion_matrix\n",
    "# 분류 결과 정확도, 정밀도, 재현율, f1 점수 리포트를 출력하기 위해 import 한다.\n",
    "from sklearn.metrics import classification_report"
   ]
  },
  {
   "cell_type": "markdown",
   "id": "c371982f",
   "metadata": {},
   "source": [
    "가우시안 나이브 베이즈를 활용한 붓꽃(iris) 분류  \n",
    "iris 데이터를 활용해 데이터의 특징에 따라 붓꽃의 종류를 구분한다.  "
   ]
  },
  {
   "cell_type": "code",
   "execution_count": 2,
   "id": "6c3bb4a5",
   "metadata": {},
   "outputs": [],
   "source": [
    "# 사이킷런이 제공하는 붓꽃(iris) 데이터를 불러오기 위해 import 한다.\n",
    "from sklearn.datasets import load_iris\n",
    "# Gaussian Naive Bayse 모델로 iris 데이터를 분류하기 위해 import 한다.\n",
    "from sklearn.naive_bayes import GaussianNB"
   ]
  },
  {
   "cell_type": "markdown",
   "id": "f540179c",
   "metadata": {},
   "source": [
    "데이터 획득  \n",
    "사이킷런에서 제공하는 붓꽃(iris) 데이터 셋을 사용한다.  "
   ]
  },
  {
   "cell_type": "code",
   "execution_count": 16,
   "id": "de0cf096",
   "metadata": {},
   "outputs": [
    {
     "name": "stdout",
     "output_type": "stream",
     "text": [
      "['setosa' 'versicolor' 'virginica']\n"
     ]
    },
    {
     "data": {
      "text/html": [
       "<div>\n",
       "<style scoped>\n",
       "    .dataframe tbody tr th:only-of-type {\n",
       "        vertical-align: middle;\n",
       "    }\n",
       "\n",
       "    .dataframe tbody tr th {\n",
       "        vertical-align: top;\n",
       "    }\n",
       "\n",
       "    .dataframe thead th {\n",
       "        text-align: right;\n",
       "    }\n",
       "</style>\n",
       "<table border=\"1\" class=\"dataframe\">\n",
       "  <thead>\n",
       "    <tr style=\"text-align: right;\">\n",
       "      <th></th>\n",
       "      <th>sepal length (cm)</th>\n",
       "      <th>sepal width (cm)</th>\n",
       "      <th>petal length (cm)</th>\n",
       "      <th>petal width (cm)</th>\n",
       "      <th>target</th>\n",
       "    </tr>\n",
       "  </thead>\n",
       "  <tbody>\n",
       "    <tr>\n",
       "      <th>0</th>\n",
       "      <td>5.1</td>\n",
       "      <td>3.5</td>\n",
       "      <td>1.4</td>\n",
       "      <td>0.2</td>\n",
       "      <td>setosa</td>\n",
       "    </tr>\n",
       "    <tr>\n",
       "      <th>1</th>\n",
       "      <td>4.9</td>\n",
       "      <td>3.0</td>\n",
       "      <td>1.4</td>\n",
       "      <td>0.2</td>\n",
       "      <td>setosa</td>\n",
       "    </tr>\n",
       "    <tr>\n",
       "      <th>2</th>\n",
       "      <td>4.7</td>\n",
       "      <td>3.2</td>\n",
       "      <td>1.3</td>\n",
       "      <td>0.2</td>\n",
       "      <td>setosa</td>\n",
       "    </tr>\n",
       "    <tr>\n",
       "      <th>3</th>\n",
       "      <td>4.6</td>\n",
       "      <td>3.1</td>\n",
       "      <td>1.5</td>\n",
       "      <td>0.2</td>\n",
       "      <td>setosa</td>\n",
       "    </tr>\n",
       "    <tr>\n",
       "      <th>4</th>\n",
       "      <td>5.0</td>\n",
       "      <td>3.6</td>\n",
       "      <td>1.4</td>\n",
       "      <td>0.2</td>\n",
       "      <td>setosa</td>\n",
       "    </tr>\n",
       "    <tr>\n",
       "      <th>...</th>\n",
       "      <td>...</td>\n",
       "      <td>...</td>\n",
       "      <td>...</td>\n",
       "      <td>...</td>\n",
       "      <td>...</td>\n",
       "    </tr>\n",
       "    <tr>\n",
       "      <th>145</th>\n",
       "      <td>6.7</td>\n",
       "      <td>3.0</td>\n",
       "      <td>5.2</td>\n",
       "      <td>2.3</td>\n",
       "      <td>virginica</td>\n",
       "    </tr>\n",
       "    <tr>\n",
       "      <th>146</th>\n",
       "      <td>6.3</td>\n",
       "      <td>2.5</td>\n",
       "      <td>5.0</td>\n",
       "      <td>1.9</td>\n",
       "      <td>virginica</td>\n",
       "    </tr>\n",
       "    <tr>\n",
       "      <th>147</th>\n",
       "      <td>6.5</td>\n",
       "      <td>3.0</td>\n",
       "      <td>5.2</td>\n",
       "      <td>2.0</td>\n",
       "      <td>virginica</td>\n",
       "    </tr>\n",
       "    <tr>\n",
       "      <th>148</th>\n",
       "      <td>6.2</td>\n",
       "      <td>3.4</td>\n",
       "      <td>5.4</td>\n",
       "      <td>2.3</td>\n",
       "      <td>virginica</td>\n",
       "    </tr>\n",
       "    <tr>\n",
       "      <th>149</th>\n",
       "      <td>5.9</td>\n",
       "      <td>3.0</td>\n",
       "      <td>5.1</td>\n",
       "      <td>1.8</td>\n",
       "      <td>virginica</td>\n",
       "    </tr>\n",
       "  </tbody>\n",
       "</table>\n",
       "<p>150 rows × 5 columns</p>\n",
       "</div>"
      ],
      "text/plain": [
       "     sepal length (cm)  sepal width (cm)  petal length (cm)  petal width (cm)  \\\n",
       "0                  5.1               3.5                1.4               0.2   \n",
       "1                  4.9               3.0                1.4               0.2   \n",
       "2                  4.7               3.2                1.3               0.2   \n",
       "3                  4.6               3.1                1.5               0.2   \n",
       "4                  5.0               3.6                1.4               0.2   \n",
       "..                 ...               ...                ...               ...   \n",
       "145                6.7               3.0                5.2               2.3   \n",
       "146                6.3               2.5                5.0               1.9   \n",
       "147                6.5               3.0                5.2               2.0   \n",
       "148                6.2               3.4                5.4               2.3   \n",
       "149                5.9               3.0                5.1               1.8   \n",
       "\n",
       "        target  \n",
       "0       setosa  \n",
       "1       setosa  \n",
       "2       setosa  \n",
       "3       setosa  \n",
       "4       setosa  \n",
       "..         ...  \n",
       "145  virginica  \n",
       "146  virginica  \n",
       "147  virginica  \n",
       "148  virginica  \n",
       "149  virginica  \n",
       "\n",
       "[150 rows x 5 columns]"
      ]
     },
     "execution_count": 16,
     "metadata": {},
     "output_type": "execute_result"
    }
   ],
   "source": [
    "dataset = load_iris() # 사이킷런에서 제공하는 붓꽃(iris) 데이터 셋을 사용한다.\n",
    "# print(type(dataset)) # <class 'sklearn.utils.Bunch'>\n",
    "# print(dataset) # 딕셔너리 형태\n",
    "# print(dataset.data)\n",
    "# print(dataset.feature_names)\n",
    "# sepal length: 꽃 받침 길이, sepal width: 꽃 받침 너비, petal length: 꽃잎 길이, petal width: 꽃잎 너비\n",
    "# print(dataset.target)\n",
    "# print(dataset.target_names) # setosa(0), versicolor(1), virginica(2) => 품종\n",
    "df = pd.DataFrame(dataset.data, columns=dataset.feature_names)\n",
    "df['target'] = dataset.target\n",
    "df['target'] = df.target.map({0:'setosa', 1: 'versicolor', 2: 'virginica'})\n",
    "df"
   ]
  },
  {
   "cell_type": "markdown",
   "id": "c68a7d74",
   "metadata": {},
   "source": [
    "데이터 시각화"
   ]
  },
  {
   "cell_type": "code",
   "execution_count": 4,
   "id": "c41d26f2",
   "metadata": {},
   "outputs": [],
   "source": [
    "setosa_df = df[df.target == 'setosa']\n",
    "versicolor_df = df[df.target == 'versicolor']\n",
    "virginica_df = df[df.target == 'virginica']"
   ]
  },
  {
   "cell_type": "markdown",
   "id": "e855792e",
   "metadata": {},
   "source": [
    "꽃받침 길이"
   ]
  },
  {
   "cell_type": "code",
   "execution_count": 5,
   "id": "a475a280",
   "metadata": {},
   "outputs": [
    {
     "data": {
      "image/png": "[encoded data removed]",
      "text/plain": [
       "<Figure size 576x288 with 2 Axes>"
      ]
     },
     "metadata": {
      "needs_background": "light"
     },
     "output_type": "display_data"
    }
   ],
   "source": [
    "ax = setosa_df['sepal length (cm)'].plot(kind='hist') # 히스토그램\n",
    "setosa_df['sepal length (cm)'].plot(\n",
    "    kind='kde', # 밀도 함수\n",
    "    secondary_y=True, # 두 번째 축에 눈금 넣기\n",
    "    figsize=(8, 4), \n",
    "    ax=ax, \n",
    "    title='setosa sepal length (cm) distribution') # 그래프 2개 넣기 \n",
    "plt.show()"
   ]
  },
  {
   "cell_type": "code",
   "execution_count": 6,
   "id": "176c2b81",
   "metadata": {},
   "outputs": [
    {
     "data": {
      "image/png": "[encoded data removed]",
      "text/plain": [
       "<Figure size 576x288 with 2 Axes>"
      ]
     },
     "metadata": {
      "needs_background": "light"
     },
     "output_type": "display_data"
    }
   ],
   "source": [
    "ax = versicolor_df['sepal length (cm)'].plot(kind='hist') # 히스토그램\n",
    "versicolor_df['sepal length (cm)'].plot(kind='kde', secondary_y=True, \n",
    "    figsize=(8, 4), ax=ax, title='setosa sepal length (cm) distribution') # 그래프 2개 넣기 \n",
    "plt.show()"
   ]
  },
  {
   "cell_type": "code",
   "execution_count": 7,
   "id": "d60976a7",
   "metadata": {},
   "outputs": [
    {
     "data": {
      "image/png": "[encoded data removed]",
      "text/plain": [
       "<Figure size 576x288 with 2 Axes>"
      ]
     },
     "metadata": {
      "needs_background": "light"
     },
     "output_type": "display_data"
    }
   ],
   "source": [
    "ax = virginica_df['sepal length (cm)'].plot(kind='hist') # 히스토그램\n",
    "virginica_df['sepal length (cm)'].plot(kind='kde', secondary_y=True, \n",
    "    figsize=(8, 4), ax=ax, title='setosa sepal length (cm) distribution') # 그래프 2개 넣기 \n",
    "plt.show()"
   ]
  },
  {
   "cell_type": "markdown",
   "id": "3c3b58c8",
   "metadata": {},
   "source": [
    "꽃받침 너비"
   ]
  },
  {
   "cell_type": "code",
   "execution_count": 17,
   "id": "0cfd636f",
   "metadata": {},
   "outputs": [
    {
     "data": {
      "image/png": "[encoded data removed]",
      "text/plain": [
       "<Figure size 576x288 with 2 Axes>"
      ]
     },
     "metadata": {
      "needs_background": "light"
     },
     "output_type": "display_data"
    }
   ],
   "source": [
    "ax = setosa_df['sepal width (cm)'].plot(kind='hist')\n",
    "setosa_df['sepal width (cm)'].plot(kind='kde', secondary_y=True, figsize=(8, 4), ax=ax,\n",
    "    title='setosa sepal width (cm) distribution')\n",
    "plt.show()"
   ]
  },
  {
   "cell_type": "markdown",
   "id": "9d867d3f",
   "metadata": {},
   "source": [
    "데이터 다듬기"
   ]
  },
  {
   "cell_type": "code",
   "execution_count": 8,
   "id": "622f2fe9",
   "metadata": {},
   "outputs": [
    {
     "name": "stdout",
     "output_type": "stream",
     "text": [
      "X_train: 120, X_test: 30\n",
      "y_train: 120, y_test: 30\n",
      "[꽃받침 길이, 꽃받침 너비, 꽃잎 길이, 꽃잎 너비](문제): [6.7 3.3 5.7 2.1], 품종(답): 2\n"
     ]
    }
   ],
   "source": [
    "# 전체 데이터의 80%를 학습 데이터로 분리하고 나머지 20%를 테스트에 \n",
    "# 사용한다.\n",
    "X_train, X_test, y_train, y_test = train_test_split(dataset.data, dataset.target, train_size=0.8)\n",
    "print('X_train: {}, X_test: {}'.format(len(X_train), len(X_test)))\n",
    "print('y_train: {}, y_test: {}'.format(len(y_train), len(y_test)))\n",
    "print('[꽃받침 길이, 꽃받침 너비, 꽃잎 길이, 꽃잎 너비](문제): {}, 품종(답): {}'.format(X_train[0], y_train[0]))"
   ]
  },
  {
   "cell_type": "markdown",
   "id": "e3f8fbae",
   "metadata": {},
   "source": [
    "가우시안 나이브 베이즈 모델 학습"
   ]
  },
  {
   "cell_type": "code",
   "execution_count": 9,
   "id": "510b5c19",
   "metadata": {},
   "outputs": [
    {
     "data": {
      "text/plain": [
       "GaussianNB()"
      ]
     },
     "execution_count": 9,
     "metadata": {},
     "output_type": "execute_result"
    }
   ],
   "source": [
    "model = GaussianNB() # 가우시안 나이브 베이즈 모델 객체를 만든다.\n",
    "model.fit(X_train, y_train) # 가우시안 나이브 베이즈 모델을 학습시킨다."
   ]
  },
  {
   "cell_type": "markdown",
   "id": "3dfa50f8",
   "metadata": {},
   "source": [
    "모델 테스트"
   ]
  },
  {
   "cell_type": "code",
   "execution_count": 10,
   "id": "6e145ab2",
   "metadata": {},
   "outputs": [
    {
     "name": "stdout",
     "output_type": "stream",
     "text": [
      "정확도: 93.33%\n"
     ]
    }
   ],
   "source": [
    "predict = model.predict(X_test) # 학습 데이터로 학습한 결과에 따른 테스트 데이터의 예측값을 계산한다.\n",
    "accuracy = accuracy_score(y_test, predict) # accuracy_score(실제값, 예측값)\n",
    "print('정확도: {:6.2%}'.format(accuracy))"
   ]
  },
  {
   "cell_type": "code",
   "execution_count": 11,
   "id": "5eaa0468",
   "metadata": {},
   "outputs": [
    {
     "name": "stdout",
     "output_type": "stream",
     "text": [
      "[[ 9  0  0]\n",
      " [ 0 11  0]\n",
      " [ 0  2  8]]\n"
     ]
    }
   ],
   "source": [
    "# confusion_matrix() 함수에 실제값(타겟, 레이블) 데이터와 예측된 \n",
    "# 데이터를 넣어서 혼돈 행렬을 만든다.\n",
    "conf_matrix = confusion_matrix(y_test, predict)\n",
    "print(conf_matrix)"
   ]
  },
  {
   "cell_type": "code",
   "execution_count": 12,
   "id": "9d82736c",
   "metadata": {
    "scrolled": true
   },
   "outputs": [
    {
     "name": "stdout",
     "output_type": "stream",
     "text": [
      "              precision    recall  f1-score   support\n",
      "\n",
      "           0       1.00      1.00      1.00         9\n",
      "           1       0.85      1.00      0.92        11\n",
      "           2       1.00      0.80      0.89        10\n",
      "\n",
      "    accuracy                           0.93        30\n",
      "   macro avg       0.95      0.93      0.94        30\n",
      "weighted avg       0.94      0.93      0.93        30\n",
      "\n"
     ]
    }
   ],
   "source": [
    "# classification_report() 함수에 실제값(타겟, 레이블) 데이터와 예측된 데이터를 넣어서 분류 리포트를 만든다.\n",
    "print(classification_report(y_test, predict))"
   ]
  },
  {
   "cell_type": "code",
   "execution_count": 13,
   "id": "03885704",
   "metadata": {},
   "outputs": [
    {
     "data": {
      "text/html": [
       "<div>\n",
       "<style scoped>\n",
       "    .dataframe tbody tr th:only-of-type {\n",
       "        vertical-align: middle;\n",
       "    }\n",
       "\n",
       "    .dataframe tbody tr th {\n",
       "        vertical-align: top;\n",
       "    }\n",
       "\n",
       "    .dataframe thead th {\n",
       "        text-align: right;\n",
       "    }\n",
       "</style>\n",
       "<table border=\"1\" class=\"dataframe\">\n",
       "  <thead>\n",
       "    <tr style=\"text-align: right;\">\n",
       "      <th></th>\n",
       "      <th>실제값</th>\n",
       "      <th>예측값</th>\n",
       "    </tr>\n",
       "  </thead>\n",
       "  <tbody>\n",
       "    <tr>\n",
       "      <th>0</th>\n",
       "      <td>2</td>\n",
       "      <td>2</td>\n",
       "    </tr>\n",
       "    <tr>\n",
       "      <th>1</th>\n",
       "      <td>2</td>\n",
       "      <td>2</td>\n",
       "    </tr>\n",
       "    <tr>\n",
       "      <th>2</th>\n",
       "      <td>1</td>\n",
       "      <td>1</td>\n",
       "    </tr>\n",
       "    <tr>\n",
       "      <th>3</th>\n",
       "      <td>0</td>\n",
       "      <td>0</td>\n",
       "    </tr>\n",
       "    <tr>\n",
       "      <th>4</th>\n",
       "      <td>0</td>\n",
       "      <td>0</td>\n",
       "    </tr>\n",
       "    <tr>\n",
       "      <th>5</th>\n",
       "      <td>1</td>\n",
       "      <td>1</td>\n",
       "    </tr>\n",
       "    <tr>\n",
       "      <th>6</th>\n",
       "      <td>2</td>\n",
       "      <td>2</td>\n",
       "    </tr>\n",
       "    <tr>\n",
       "      <th>7</th>\n",
       "      <td>2</td>\n",
       "      <td>1</td>\n",
       "    </tr>\n",
       "    <tr>\n",
       "      <th>8</th>\n",
       "      <td>0</td>\n",
       "      <td>0</td>\n",
       "    </tr>\n",
       "    <tr>\n",
       "      <th>9</th>\n",
       "      <td>2</td>\n",
       "      <td>2</td>\n",
       "    </tr>\n",
       "    <tr>\n",
       "      <th>10</th>\n",
       "      <td>0</td>\n",
       "      <td>0</td>\n",
       "    </tr>\n",
       "    <tr>\n",
       "      <th>11</th>\n",
       "      <td>2</td>\n",
       "      <td>1</td>\n",
       "    </tr>\n",
       "    <tr>\n",
       "      <th>12</th>\n",
       "      <td>2</td>\n",
       "      <td>2</td>\n",
       "    </tr>\n",
       "    <tr>\n",
       "      <th>13</th>\n",
       "      <td>1</td>\n",
       "      <td>1</td>\n",
       "    </tr>\n",
       "    <tr>\n",
       "      <th>14</th>\n",
       "      <td>0</td>\n",
       "      <td>0</td>\n",
       "    </tr>\n",
       "    <tr>\n",
       "      <th>15</th>\n",
       "      <td>2</td>\n",
       "      <td>2</td>\n",
       "    </tr>\n",
       "    <tr>\n",
       "      <th>16</th>\n",
       "      <td>1</td>\n",
       "      <td>1</td>\n",
       "    </tr>\n",
       "    <tr>\n",
       "      <th>17</th>\n",
       "      <td>2</td>\n",
       "      <td>2</td>\n",
       "    </tr>\n",
       "    <tr>\n",
       "      <th>18</th>\n",
       "      <td>1</td>\n",
       "      <td>1</td>\n",
       "    </tr>\n",
       "    <tr>\n",
       "      <th>19</th>\n",
       "      <td>1</td>\n",
       "      <td>1</td>\n",
       "    </tr>\n",
       "    <tr>\n",
       "      <th>20</th>\n",
       "      <td>1</td>\n",
       "      <td>1</td>\n",
       "    </tr>\n",
       "    <tr>\n",
       "      <th>21</th>\n",
       "      <td>1</td>\n",
       "      <td>1</td>\n",
       "    </tr>\n",
       "    <tr>\n",
       "      <th>22</th>\n",
       "      <td>1</td>\n",
       "      <td>1</td>\n",
       "    </tr>\n",
       "    <tr>\n",
       "      <th>23</th>\n",
       "      <td>0</td>\n",
       "      <td>0</td>\n",
       "    </tr>\n",
       "    <tr>\n",
       "      <th>24</th>\n",
       "      <td>1</td>\n",
       "      <td>1</td>\n",
       "    </tr>\n",
       "    <tr>\n",
       "      <th>25</th>\n",
       "      <td>0</td>\n",
       "      <td>0</td>\n",
       "    </tr>\n",
       "    <tr>\n",
       "      <th>26</th>\n",
       "      <td>2</td>\n",
       "      <td>2</td>\n",
       "    </tr>\n",
       "    <tr>\n",
       "      <th>27</th>\n",
       "      <td>0</td>\n",
       "      <td>0</td>\n",
       "    </tr>\n",
       "    <tr>\n",
       "      <th>28</th>\n",
       "      <td>1</td>\n",
       "      <td>1</td>\n",
       "    </tr>\n",
       "    <tr>\n",
       "      <th>29</th>\n",
       "      <td>0</td>\n",
       "      <td>0</td>\n",
       "    </tr>\n",
       "  </tbody>\n",
       "</table>\n",
       "</div>"
      ],
      "text/plain": [
       "    실제값  예측값\n",
       "0     2    2\n",
       "1     2    2\n",
       "2     1    1\n",
       "3     0    0\n",
       "4     0    0\n",
       "5     1    1\n",
       "6     2    2\n",
       "7     2    1\n",
       "8     0    0\n",
       "9     2    2\n",
       "10    0    0\n",
       "11    2    1\n",
       "12    2    2\n",
       "13    1    1\n",
       "14    0    0\n",
       "15    2    2\n",
       "16    1    1\n",
       "17    2    2\n",
       "18    1    1\n",
       "19    1    1\n",
       "20    1    1\n",
       "21    1    1\n",
       "22    1    1\n",
       "23    0    0\n",
       "24    1    1\n",
       "25    0    0\n",
       "26    2    2\n",
       "27    0    0\n",
       "28    1    1\n",
       "29    0    0"
      ]
     },
     "execution_count": 13,
     "metadata": {},
     "output_type": "execute_result"
    }
   ],
   "source": [
    "comparison = pd.DataFrame({'실제값': y_test, '예측값': predict})\n",
    "comparison"
   ]
  }
 ],
 "metadata": {
  "kernelspec": {
   "display_name": "Python 3",
   "language": "python",
   "name": "python3"
  },
  "language_info": {
   "codemirror_mode": {
    "name": "ipython",
    "version": 3
   },
   "file_extension": ".py",
   "mimetype": "text/x-python",
   "name": "python",
   "nbconvert_exporter": "python",
   "pygments_lexer": "ipython3",
   "version": "3.6.8"
  }
 },
 "nbformat": 4,
 "nbformat_minor": 5
}
