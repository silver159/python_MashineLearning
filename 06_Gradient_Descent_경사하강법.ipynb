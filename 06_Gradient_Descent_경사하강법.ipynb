{
 "cells": [
  {
   "cell_type": "markdown",
   "id": "0acc82f2",
   "metadata": {},
   "source": [
    "경사 하강법(Gradient Descent)\n",
    "\n",
    "기울기를 너무 크게 잡으면 오차가 커지고 너무 작게 잡아도 오차가 커진다.  \n",
    "기울기를 무한대로 키우면 오차도 무한대로 커지고 기울기를 무한대로 작게해도 오차는 무한대로 커진다.  "
   ]
  },
  {
   "cell_type": "code",
   "execution_count": 1,
   "id": "a0554562",
   "metadata": {},
   "outputs": [
    {
     "name": "stdout",
     "output_type": "stream",
     "text": [
      "WARNING:tensorflow:From c:\\python\\lib\\site-packages\\tensorflow\\python\\compat\\v2_compat.py:101: disable_resource_variables (from tensorflow.python.ops.variable_scope) is deprecated and will be removed in a future version.\n",
      "Instructions for updating:\n",
      "non-resource variables are not supported in the long term\n"
     ]
    }
   ],
   "source": [
    "import warnings\n",
    "warnings.filterwarnings(action='ignore') \n",
    "%config Completer.use_jedi = False \n",
    "import tensorflow.compat.v1 as tf\n",
    "tf.disable_v2_behavior()\n",
    "import numpy as np\n",
    "import pandas as pd"
   ]
  },
  {
   "cell_type": "code",
   "execution_count": 2,
   "id": "fcedcc89",
   "metadata": {},
   "outputs": [],
   "source": [
    "data = [[2, 81], [4, 93], [6, 91], [8, 97]] # [x(공부 시간), y(시험 성적)]\n",
    "x = [i[0] for i in data] # 공부 시간\n",
    "y = [i[1] for i in data] # 시험 성적, 실제값"
   ]
  },
  {
   "cell_type": "code",
   "execution_count": 3,
   "id": "b9428c87",
   "metadata": {},
   "outputs": [
    {
     "name": "stdout",
     "output_type": "stream",
     "text": [
      "a = [9.542011], b =[36.830116]\n"
     ]
    }
   ],
   "source": [
    "# 기울기 a와 y절편 b를 임의로 정한다.\n",
    "# random_uniform([난수의 개수], 최소값, 최대값, dtype=난수의 데이터 \n",
    "# 타입, seed=숫자): 최대값과 최소값 사이에서 지정한 개수의 난수를 \n",
    "# 발생시킨다.\n",
    "# dtype 생략시 기본값은 tf.float32이고 seed를 지정하면 항상 일정한 배열의 난수가 생성된다.\n",
    "a = tf.Variable(tf.random_uniform([1], 0, 10)) # 기울기(가중치), 0 ~ 10 사이의 난수\n",
    "b = tf.Variable(tf.random_uniform([1], 0, 100)) # y절편(바이어스), 0 ~ 100 사이의 난수\n",
    "sess = tf.Session()\n",
    "sess.run(tf.global_variables_initializer())\n",
    "print('a = {}, b ={}'.format(sess.run(a), sess.run(b)))"
   ]
  },
  {
   "cell_type": "code",
   "execution_count": 4,
   "id": "4675028f",
   "metadata": {},
   "outputs": [],
   "source": [
    "# 예측 성적(Y)을 얻기 위한 가설(수식)을 만든다.\n",
    "Y = a * x + b"
   ]
  },
  {
   "cell_type": "code",
   "execution_count": 5,
   "id": "5291234e",
   "metadata": {},
   "outputs": [],
   "source": [
    "# tensorflow에서 실행할 RMSE(평균 제곱근 오차) 수식(오차 함수)을 \n",
    "# 만든다.\n",
    "# tf.square(Y - y): 예측 성적(Y)과 실제 성적(y)의 편차의 제곱을 \n",
    "# 계산한다.\n",
    "# tf.reduce_mean(tf.square(Y - y)): 예측 성적과 실제 성적의 편차의 \n",
    "# 제곱의 평균을 계산한다.\n",
    "# tf.sqrt(tf.reduce_mean(tf.square(Y - y))): 예측 성적과 실제 성적의 \n",
    "# 편차의 제곱의 평균에 대한 제곱근을 계산한다.\n",
    "rmse = tf.sqrt(tf.reduce_mean(tf.square(Y - y)))"
   ]
  },
  {
   "cell_type": "code",
   "execution_count": 6,
   "id": "386d3de6",
   "metadata": {},
   "outputs": [],
   "source": [
    "# 경사 하강법을 이용해서 RMSE를 최소로 하는 값을 찾는 수식을 만든다.\n",
    "learning_rate = 0.1\n",
    "gradient_descent = tf.train.GradientDescentOptimizer(\n",
    "                                    learning_rate).minimize(rmse)"
   ]
  },
  {
   "cell_type": "code",
   "execution_count": 7,
   "id": "02774007",
   "metadata": {
    "scrolled": true
   },
   "outputs": [
    {
     "name": "stdout",
     "output_type": "stream",
     "text": [
      "epoch:    0, RMSE: 50.5089, 기울기:  1.9358, y 절편: 30.4007\n",
      "epoch:  200, RMSE: 16.4348, 기울기:  8.9410, y 절편: 39.3695\n",
      "epoch:  400, RMSE: 13.3150, 기울기:  7.6355, y 절편: 47.1600\n",
      "epoch:  600, RMSE: 10.2692, 기울기:  6.3456, y 절편: 54.8575\n",
      "epoch:  800, RMSE:  7.3828, 기울기:  5.0899, y 절편: 62.3508\n",
      "epoch: 1000, RMSE:  4.8968, 기울기:  3.9252, y 절편: 69.3016\n",
      "epoch: 1200, RMSE:  3.3716, 기울기:  3.0189, y 절편: 74.7101\n",
      "epoch: 1400, RMSE:  2.9453, 기울기:  2.5514, y 절편: 77.5000\n",
      "epoch: 1600, RMSE:  2.8879, 기울기:  2.3821, y 절편: 78.5099\n",
      "epoch: 1800, RMSE:  2.8817, 기울기:  2.3266, y 절편: 78.8413\n",
      "epoch: 2000, RMSE:  2.8811, 기울기:  2.3086, y 절편: 78.9487\n",
      "epoch: 2200, RMSE:  2.8810, 기울기:  2.3028, y 절편: 78.9834\n",
      "epoch: 2400, RMSE:  2.8810, 기울기:  2.3009, y 절편: 78.9946\n",
      "epoch: 2600, RMSE:  2.8810, 기울기:  2.3003, y 절편: 78.9982\n",
      "epoch: 2800, RMSE:  2.8810, 기울기:  2.3001, y 절편: 78.9994\n",
      "epoch: 3000, RMSE:  2.8810, 기울기:  2.3001, y 절편: 78.9994\n"
     ]
    }
   ],
   "source": [
    "# 학습 시킨다.\n",
    "sess = tf.Session()\n",
    "sess.run(tf.global_variables_initializer())\n",
    "\n",
    "for epoch in range(3001):\n",
    "    sess.run(gradient_descent)    \n",
    "    if epoch % 200 == 0:\n",
    "        # print('epoch: {:4d}, RMSE: {:7.4f}, 기울기: {:7.4f}, y 절편: {:7.4f}'.format(epoch, sess.run(rmse), sess.run(a[0]), sess.run(b[0])))\n",
    "        print('epoch: %4d, RMSE: %7.4f, 기울기: %7.4f, y 절편: %7.4f'% (epoch, sess.run(rmse), sess.run(a), sess.run(b)))"
   ]
  },
  {
   "cell_type": "markdown",
   "id": "c2c6e0c0",
   "metadata": {},
   "source": [
    "<img src=\"./images/1.png\" width=\"1100\">"
   ]
  }
 ],
 "metadata": {
  "kernelspec": {
   "display_name": "Python 3",
   "language": "python",
   "name": "python3"
  },
  "language_info": {
   "codemirror_mode": {
    "name": "ipython",
    "version": 3
   },
   "file_extension": ".py",
   "mimetype": "text/x-python",
   "name": "python",
   "nbconvert_exporter": "python",
   "pygments_lexer": "ipython3",
   "version": "3.6.8"
  }
 },
 "nbformat": 4,
 "nbformat_minor": 5
}
