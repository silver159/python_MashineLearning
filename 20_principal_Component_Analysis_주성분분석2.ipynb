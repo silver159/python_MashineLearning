{
 "cells": [
  {
   "cell_type": "code",
   "execution_count": 1,
   "id": "04e0a8a4",
   "metadata": {},
   "outputs": [],
   "source": [
    "import warnings\n",
    "warnings.filterwarnings(action='ignore')\n",
    "%config Computer.use_jedi = False \n",
    "import numpy as np\n",
    "import pandas as pd\n",
    "import matplotlib.pyplot as plt\n",
    "import seaborn as sns\n",
    "from sklearn.model_selection import train_test_split\n",
    "from sklearn.metrics import accuracy_score\n",
    "from sklearn.metrics import confusion_matrix\n",
    "from sklearn.metrics import classification_report"
   ]
  },
  {
   "cell_type": "code",
   "execution_count": 2,
   "id": "667a42d3",
   "metadata": {},
   "outputs": [],
   "source": [
    "# 평균을 0으로 분산을 1로 조정해서 표준화를 하기 위해 import 한다.\n",
    "from sklearn.preprocessing import StandardScaler"
   ]
  },
  {
   "cell_type": "markdown",
   "id": "d0f75dde",
   "metadata": {},
   "source": [
    "식습관 데이터를 차원축소시켜 시각화 하기"
   ]
  },
  {
   "cell_type": "markdown",
   "id": "f5fa4676",
   "metadata": {},
   "source": [
    "데이터 획득  \n",
    "사람들의 하루 식습관 데이터를 만든 후 주성분 분석을 사용해 시각화하기 위해서 칼로리, 아침, 점심, 저녁, 운동횟수, 체형이라는 특징을 가지는 데이터프레임을 생성한다."
   ]
  },
  {
   "cell_type": "code",
   "execution_count": 3,
   "id": "ace8fed8",
   "metadata": {
    "scrolled": true
   },
   "outputs": [
    {
     "data": {
      "text/html": [
       "<div>\n",
       "<style scoped>\n",
       "    .dataframe tbody tr th:only-of-type {\n",
       "        vertical-align: middle;\n",
       "    }\n",
       "\n",
       "    .dataframe tbody tr th {\n",
       "        vertical-align: top;\n",
       "    }\n",
       "\n",
       "    .dataframe thead th {\n",
       "        text-align: right;\n",
       "    }\n",
       "</style>\n",
       "<table border=\"1\" class=\"dataframe\">\n",
       "  <thead>\n",
       "    <tr style=\"text-align: right;\">\n",
       "      <th></th>\n",
       "      <th>calorie</th>\n",
       "      <th>breakfast</th>\n",
       "      <th>lunch</th>\n",
       "      <th>dinner</th>\n",
       "      <th>exercise</th>\n",
       "      <th>body_shape</th>\n",
       "    </tr>\n",
       "  </thead>\n",
       "  <tbody>\n",
       "    <tr>\n",
       "      <th>0</th>\n",
       "      <td>1200</td>\n",
       "      <td>1</td>\n",
       "      <td>0</td>\n",
       "      <td>0</td>\n",
       "      <td>2</td>\n",
       "      <td>Skinny</td>\n",
       "    </tr>\n",
       "    <tr>\n",
       "      <th>1</th>\n",
       "      <td>2800</td>\n",
       "      <td>1</td>\n",
       "      <td>1</td>\n",
       "      <td>1</td>\n",
       "      <td>1</td>\n",
       "      <td>Normal</td>\n",
       "    </tr>\n",
       "    <tr>\n",
       "      <th>2</th>\n",
       "      <td>3500</td>\n",
       "      <td>2</td>\n",
       "      <td>2</td>\n",
       "      <td>1</td>\n",
       "      <td>0</td>\n",
       "      <td>Fat</td>\n",
       "    </tr>\n",
       "    <tr>\n",
       "      <th>3</th>\n",
       "      <td>1400</td>\n",
       "      <td>0</td>\n",
       "      <td>1</td>\n",
       "      <td>0</td>\n",
       "      <td>3</td>\n",
       "      <td>Skinny</td>\n",
       "    </tr>\n",
       "    <tr>\n",
       "      <th>4</th>\n",
       "      <td>5000</td>\n",
       "      <td>2</td>\n",
       "      <td>2</td>\n",
       "      <td>2</td>\n",
       "      <td>0</td>\n",
       "      <td>Fat</td>\n",
       "    </tr>\n",
       "    <tr>\n",
       "      <th>5</th>\n",
       "      <td>1300</td>\n",
       "      <td>0</td>\n",
       "      <td>0</td>\n",
       "      <td>1</td>\n",
       "      <td>2</td>\n",
       "      <td>Skinny</td>\n",
       "    </tr>\n",
       "    <tr>\n",
       "      <th>6</th>\n",
       "      <td>3000</td>\n",
       "      <td>1</td>\n",
       "      <td>0</td>\n",
       "      <td>1</td>\n",
       "      <td>1</td>\n",
       "      <td>Normal</td>\n",
       "    </tr>\n",
       "    <tr>\n",
       "      <th>7</th>\n",
       "      <td>4000</td>\n",
       "      <td>2</td>\n",
       "      <td>2</td>\n",
       "      <td>2</td>\n",
       "      <td>0</td>\n",
       "      <td>Fat</td>\n",
       "    </tr>\n",
       "    <tr>\n",
       "      <th>8</th>\n",
       "      <td>2600</td>\n",
       "      <td>0</td>\n",
       "      <td>2</td>\n",
       "      <td>0</td>\n",
       "      <td>0</td>\n",
       "      <td>Normal</td>\n",
       "    </tr>\n",
       "    <tr>\n",
       "      <th>9</th>\n",
       "      <td>3000</td>\n",
       "      <td>1</td>\n",
       "      <td>2</td>\n",
       "      <td>1</td>\n",
       "      <td>1</td>\n",
       "      <td>Fat</td>\n",
       "    </tr>\n",
       "  </tbody>\n",
       "</table>\n",
       "</div>"
      ],
      "text/plain": [
       "  calorie breakfast lunch dinner exercise body_shape\n",
       "0    1200         1     0      0        2     Skinny\n",
       "1    2800         1     1      1        1     Normal\n",
       "2    3500         2     2      1        0        Fat\n",
       "3    1400         0     1      0        3     Skinny\n",
       "4    5000         2     2      2        0        Fat\n",
       "5    1300         0     0      1        2     Skinny\n",
       "6    3000         1     0      1        1     Normal\n",
       "7    4000         2     2      2        0        Fat\n",
       "8    2600         0     2      0        0     Normal\n",
       "9    3000         1     2      1        1        Fat"
      ]
     },
     "execution_count": 3,
     "metadata": {},
     "output_type": "execute_result"
    }
   ],
   "source": [
    "df = pd.DataFrame(columns = ['calorie', 'breakfast', 'lunch', 'dinner', 'exercise', 'body_shape'])\n",
    "df.loc[0] = [1200, 1, 0, 0, 2, 'Skinny']\n",
    "df.loc[1] = [2800, 1, 1, 1, 1, 'Normal']\n",
    "df.loc[2] = [3500, 2, 2, 1, 0, 'Fat']\n",
    "df.loc[3] = [1400, 0, 1, 0, 3, 'Skinny']\n",
    "df.loc[4] = [5000, 2, 2, 2, 0, 'Fat']\n",
    "df.loc[5] = [1300, 0, 0, 1, 2, 'Skinny']\n",
    "df.loc[6] = [3000, 1, 0, 1, 1, 'Normal']\n",
    "df.loc[7] = [4000, 2, 2, 2, 0, 'Fat']\n",
    "df.loc[8] = [2600, 0, 2, 0, 0, 'Normal']\n",
    "df.loc[9] = [3000, 1, 2, 1, 1, 'Fat']\n",
    "df"
   ]
  },
  {
   "cell_type": "markdown",
   "id": "dfe5a963",
   "metadata": {},
   "source": [
    "데이터 전처리  \n",
    "데이터 전처리 과정을 통해 데이터 범위가 제각각인 특징을 표준화 한다.  "
   ]
  },
  {
   "cell_type": "code",
   "execution_count": 4,
   "id": "5357452a",
   "metadata": {},
   "outputs": [
    {
     "data": {
      "text/html": [
       "<div>\n",
       "<style scoped>\n",
       "    .dataframe tbody tr th:only-of-type {\n",
       "        vertical-align: middle;\n",
       "    }\n",
       "\n",
       "    .dataframe tbody tr th {\n",
       "        vertical-align: top;\n",
       "    }\n",
       "\n",
       "    .dataframe thead th {\n",
       "        text-align: right;\n",
       "    }\n",
       "</style>\n",
       "<table border=\"1\" class=\"dataframe\">\n",
       "  <thead>\n",
       "    <tr style=\"text-align: right;\">\n",
       "      <th></th>\n",
       "      <th>calorie</th>\n",
       "      <th>breakfast</th>\n",
       "      <th>lunch</th>\n",
       "      <th>dinner</th>\n",
       "      <th>exercise</th>\n",
       "    </tr>\n",
       "  </thead>\n",
       "  <tbody>\n",
       "    <tr>\n",
       "      <th>0</th>\n",
       "      <td>1200</td>\n",
       "      <td>1</td>\n",
       "      <td>0</td>\n",
       "      <td>0</td>\n",
       "      <td>2</td>\n",
       "    </tr>\n",
       "    <tr>\n",
       "      <th>1</th>\n",
       "      <td>2800</td>\n",
       "      <td>1</td>\n",
       "      <td>1</td>\n",
       "      <td>1</td>\n",
       "      <td>1</td>\n",
       "    </tr>\n",
       "    <tr>\n",
       "      <th>2</th>\n",
       "      <td>3500</td>\n",
       "      <td>2</td>\n",
       "      <td>2</td>\n",
       "      <td>1</td>\n",
       "      <td>0</td>\n",
       "    </tr>\n",
       "    <tr>\n",
       "      <th>3</th>\n",
       "      <td>1400</td>\n",
       "      <td>0</td>\n",
       "      <td>1</td>\n",
       "      <td>0</td>\n",
       "      <td>3</td>\n",
       "    </tr>\n",
       "    <tr>\n",
       "      <th>4</th>\n",
       "      <td>5000</td>\n",
       "      <td>2</td>\n",
       "      <td>2</td>\n",
       "      <td>2</td>\n",
       "      <td>0</td>\n",
       "    </tr>\n",
       "    <tr>\n",
       "      <th>5</th>\n",
       "      <td>1300</td>\n",
       "      <td>0</td>\n",
       "      <td>0</td>\n",
       "      <td>1</td>\n",
       "      <td>2</td>\n",
       "    </tr>\n",
       "    <tr>\n",
       "      <th>6</th>\n",
       "      <td>3000</td>\n",
       "      <td>1</td>\n",
       "      <td>0</td>\n",
       "      <td>1</td>\n",
       "      <td>1</td>\n",
       "    </tr>\n",
       "    <tr>\n",
       "      <th>7</th>\n",
       "      <td>4000</td>\n",
       "      <td>2</td>\n",
       "      <td>2</td>\n",
       "      <td>2</td>\n",
       "      <td>0</td>\n",
       "    </tr>\n",
       "    <tr>\n",
       "      <th>8</th>\n",
       "      <td>2600</td>\n",
       "      <td>0</td>\n",
       "      <td>2</td>\n",
       "      <td>0</td>\n",
       "      <td>0</td>\n",
       "    </tr>\n",
       "    <tr>\n",
       "      <th>9</th>\n",
       "      <td>3000</td>\n",
       "      <td>1</td>\n",
       "      <td>2</td>\n",
       "      <td>1</td>\n",
       "      <td>1</td>\n",
       "    </tr>\n",
       "  </tbody>\n",
       "</table>\n",
       "</div>"
      ],
      "text/plain": [
       "  calorie breakfast lunch dinner exercise\n",
       "0    1200         1     0      0        2\n",
       "1    2800         1     1      1        1\n",
       "2    3500         2     2      1        0\n",
       "3    1400         0     1      0        3\n",
       "4    5000         2     2      2        0\n",
       "5    1300         0     0      1        2\n",
       "6    3000         1     0      1        1\n",
       "7    4000         2     2      2        0\n",
       "8    2600         0     2      0        0\n",
       "9    3000         1     2      1        1"
      ]
     },
     "execution_count": 4,
     "metadata": {},
     "output_type": "execute_result"
    }
   ],
   "source": [
    "# 데이터에 데이터의 특징(피쳐)와 레이블(클래스, 타겟)가 함께있으므로 \n",
    "# 데이터의 특징으로만 구성된 X 데이터프레임을 만든다.\n",
    "X = df[['calorie', 'breakfast', 'lunch', 'dinner', 'exercise']]\n",
    "X"
   ]
  },
  {
   "cell_type": "markdown",
   "id": "52144c84",
   "metadata": {},
   "source": [
    "표준화(정규화)  \n",
    "위의 데이터 전처리 결과를 통해 칼로리가 유난히 다른 특성들에 비해 수치의 범위가 큰 것을 확인할 수 있다.  \n",
    "수치가 큰 칼로리와 다른 특성들은 우리가 눈으로 비교할 수 없듯이 머신러닝 모델도 쉽게 비교하기 힘들어한다.  \n",
    "이 경우 모든 특성들이 평균이 0이고 표준편차가 1인 데이터로 바꾼후 비교하면 특성들의 상관관계를 이해하기 쉬워지고 머신러닝 모델역시 더욱 효율적으로 데이터를 학습할 수 있다.  "
   ]
  },
  {
   "cell_type": "code",
   "execution_count": 5,
   "id": "2ef2c46a",
   "metadata": {},
   "outputs": [
    {
     "name": "stdout",
     "output_type": "stream",
     "text": [
      "<class 'numpy.ndarray'>\n",
      "[[-1.35205803  0.         -1.3764944  -1.28571429  1.        ]\n",
      " [ 0.01711466  0.         -0.22941573  0.14285714  0.        ]\n",
      " [ 0.61612771  1.29099445  0.91766294  0.14285714 -1.        ]\n",
      " [-1.18091145 -1.29099445 -0.22941573 -1.28571429  2.        ]\n",
      " [ 1.89972711  1.29099445  0.91766294  1.57142857 -1.        ]\n",
      " [-1.26648474 -1.29099445 -1.3764944   0.14285714  1.        ]\n",
      " [ 0.18826125  0.         -1.3764944   0.14285714  0.        ]\n",
      " [ 1.04399418  1.29099445  0.91766294  1.57142857 -1.        ]\n",
      " [-0.15403193 -1.29099445  0.91766294 -1.28571429 -1.        ]\n",
      " [ 0.18826125  0.          0.91766294  0.14285714  0.        ]]\n"
     ]
    }
   ],
   "source": [
    "# 칼로리를 포함한 모든 특성들을 같은 범위내로 표준화한다.\n",
    "x_std = StandardScaler().fit_transform(X)\n",
    "print(type(x_std)) # <class 'numpy.ndarray'>\n",
    "print(x_std)"
   ]
  },
  {
   "cell_type": "markdown",
   "id": "03bf3f35",
   "metadata": {},
   "source": [
    "레이블 분리하기  \n",
    "각 데이터 특성에 따른 레이블(체형)을 따로 Y 데이터프레임으로 생성한다."
   ]
  },
  {
   "cell_type": "code",
   "execution_count": 6,
   "id": "e3a1f1e6",
   "metadata": {
    "scrolled": true
   },
   "outputs": [
    {
     "data": {
      "text/html": [
       "<div>\n",
       "<style scoped>\n",
       "    .dataframe tbody tr th:only-of-type {\n",
       "        vertical-align: middle;\n",
       "    }\n",
       "\n",
       "    .dataframe tbody tr th {\n",
       "        vertical-align: top;\n",
       "    }\n",
       "\n",
       "    .dataframe thead th {\n",
       "        text-align: right;\n",
       "    }\n",
       "</style>\n",
       "<table border=\"1\" class=\"dataframe\">\n",
       "  <thead>\n",
       "    <tr style=\"text-align: right;\">\n",
       "      <th></th>\n",
       "      <th>body_shape</th>\n",
       "    </tr>\n",
       "  </thead>\n",
       "  <tbody>\n",
       "    <tr>\n",
       "      <th>0</th>\n",
       "      <td>Skinny</td>\n",
       "    </tr>\n",
       "    <tr>\n",
       "      <th>1</th>\n",
       "      <td>Normal</td>\n",
       "    </tr>\n",
       "    <tr>\n",
       "      <th>2</th>\n",
       "      <td>Fat</td>\n",
       "    </tr>\n",
       "    <tr>\n",
       "      <th>3</th>\n",
       "      <td>Skinny</td>\n",
       "    </tr>\n",
       "    <tr>\n",
       "      <th>4</th>\n",
       "      <td>Fat</td>\n",
       "    </tr>\n",
       "    <tr>\n",
       "      <th>5</th>\n",
       "      <td>Skinny</td>\n",
       "    </tr>\n",
       "    <tr>\n",
       "      <th>6</th>\n",
       "      <td>Normal</td>\n",
       "    </tr>\n",
       "    <tr>\n",
       "      <th>7</th>\n",
       "      <td>Fat</td>\n",
       "    </tr>\n",
       "    <tr>\n",
       "      <th>8</th>\n",
       "      <td>Normal</td>\n",
       "    </tr>\n",
       "    <tr>\n",
       "      <th>9</th>\n",
       "      <td>Fat</td>\n",
       "    </tr>\n",
       "  </tbody>\n",
       "</table>\n",
       "</div>"
      ],
      "text/plain": [
       "  body_shape\n",
       "0     Skinny\n",
       "1     Normal\n",
       "2        Fat\n",
       "3     Skinny\n",
       "4        Fat\n",
       "5     Skinny\n",
       "6     Normal\n",
       "7        Fat\n",
       "8     Normal\n",
       "9        Fat"
      ]
     },
     "execution_count": 6,
     "metadata": {},
     "output_type": "execute_result"
    }
   ],
   "source": [
    "Y = df[['body_shape']] # [] 시리즈, [[]] 데이터프레임\n",
    "Y"
   ]
  },
  {
   "cell_type": "markdown",
   "id": "d7f7e19b",
   "metadata": {},
   "source": [
    "공분산 행렬 구하기  \n",
    "주성분 분석을 하기 위해서 가장 먼저 할 일은 특징들의 공분산 행렬을 구하는 것이다.   "
   ]
  },
  {
   "cell_type": "code",
   "execution_count": 7,
   "id": "f607b34b",
   "metadata": {},
   "outputs": [
    {
     "data": {
      "text/plain": [
       "array([[ 1.11111111,  0.88379717,  0.76782385,  0.89376551, -0.93179808],\n",
       "       [ 0.88379717,  1.11111111,  0.49362406,  0.81967902, -0.71721914],\n",
       "       [ 0.76782385,  0.49362406,  1.11111111,  0.40056715, -0.76471911],\n",
       "       [ 0.89376551,  0.81967902,  0.40056715,  1.11111111, -0.63492063],\n",
       "       [-0.93179808, -0.71721914, -0.76471911, -0.63492063,  1.11111111]])"
      ]
     },
     "execution_count": 7,
     "metadata": {},
     "output_type": "execute_result"
    }
   ],
   "source": [
    "# 넘파이의 cov() 메소드를 사용하면 공분산을 계산할 수 있다.\n",
    "features = x_std.T # 전치\n",
    "covariance_matrix = np.cov(features)\n",
    "covariance_matrix"
   ]
  },
  {
   "cell_type": "markdown",
   "id": "66c0858b",
   "metadata": {},
   "source": [
    "고유값과 고유벡터 구하기  \n",
    "공분산 행렬에서 가장 큰 고유값을 가진 고유벡터를 찾아 그 벡터위에 데이터를 사영시킨다.  \n",
    "사영시킨다는 의미는 데이터 손실을 최소한으로 하는 2차원을 1차원 공간으로 축소한다는 의미이다.  "
   ]
  },
  {
   "cell_type": "code",
   "execution_count": 8,
   "id": "ad52fcec",
   "metadata": {},
   "outputs": [
    {
     "name": "stdout",
     "output_type": "stream",
     "text": [
      "고유값\n",
      "[4.0657343  0.8387565  0.07629538 0.27758568 0.2971837 ]\n",
      "고유벡터\n",
      "[[-0.508005   -0.0169937  -0.84711404  0.11637853  0.10244985]\n",
      " [-0.44660335 -0.36890361  0.12808055 -0.63112016 -0.49973822]\n",
      " [-0.38377913  0.70804084  0.20681005 -0.40305226  0.38232213]\n",
      " [-0.42845209 -0.53194699  0.3694462   0.22228235  0.58954327]\n",
      " [ 0.46002038 -0.2816592  -0.29450345 -0.61341895  0.49601841]]\n"
     ]
    }
   ],
   "source": [
    "# 공분산 행렬에서 고유값과 고유벡터를 계산한다.\n",
    "las, evs = np.linalg.eig(covariance_matrix)\n",
    "print('고유값\\n', las, sep='')\n",
    "print('고유벡터\\n', evs, sep='')"
   ]
  },
  {
   "cell_type": "code",
   "execution_count": 9,
   "id": "1a256fe1",
   "metadata": {},
   "outputs": [
    {
     "name": "stdout",
     "output_type": "stream",
     "text": [
      "0.7318321731427545\n",
      "0.1509761705671509\n",
      "0.01373316793695013\n",
      "0.04996542317586186\n",
      "0.05349306517728263\n"
     ]
    }
   ],
   "source": [
    "# 가장 큰 고유벡터로 데이터를 사영할 경우 얼마만큼의 정보가 \n",
    "# 유지되는지 확인한다.\n",
    "for i in range(len(las)):\n",
    "    print(las[i] / sum(las))"
   ]
  },
  {
   "cell_type": "markdown",
   "id": "0b05abd3",
   "metadata": {},
   "source": [
    "결과를 통해 1차원 데이터로 차원 축소를 하더라도 73% 정도에 해당되는 정보를 유지할 수 있다는 사실을 확인할 수 있다. 27% 정도의 정보 손실은 감수하고 1차원 데이터로 축소한다."
   ]
  },
  {
   "cell_type": "code",
   "execution_count": 10,
   "id": "0cf29cfd",
   "metadata": {},
   "outputs": [
    {
     "data": {
      "text/plain": [
       "array([ 2.22600943,  0.0181432 , -1.76296611,  2.73542407, -3.02711544,\n",
       "        2.14702579,  0.37142473, -2.59239883,  0.39347815, -0.50902498])"
      ]
     },
     "execution_count": 10,
     "metadata": {},
     "output_type": "execute_result"
    }
   ],
   "source": [
    "projected_X = x_std.dot(evs.T[0] / np.linalg.norm(evs.T[0]))\n",
    "projected_X"
   ]
  },
  {
   "cell_type": "markdown",
   "id": "c5f91f53",
   "metadata": {},
   "source": [
    "시각화  \n",
    "데이터가 사영된 고유벡트(주성분)를 x축으로하고 1차원 데이터이므로 y축은 0으로 고정시킨다."
   ]
  },
  {
   "cell_type": "code",
   "execution_count": 11,
   "id": "804f623c",
   "metadata": {},
   "outputs": [
    {
     "data": {
      "text/html": [
       "<div>\n",
       "<style scoped>\n",
       "    .dataframe tbody tr th:only-of-type {\n",
       "        vertical-align: middle;\n",
       "    }\n",
       "\n",
       "    .dataframe tbody tr th {\n",
       "        vertical-align: top;\n",
       "    }\n",
       "\n",
       "    .dataframe thead th {\n",
       "        text-align: right;\n",
       "    }\n",
       "</style>\n",
       "<table border=\"1\" class=\"dataframe\">\n",
       "  <thead>\n",
       "    <tr style=\"text-align: right;\">\n",
       "      <th></th>\n",
       "      <th>PCA1</th>\n",
       "      <th>y-axis</th>\n",
       "      <th>label</th>\n",
       "    </tr>\n",
       "  </thead>\n",
       "  <tbody>\n",
       "    <tr>\n",
       "      <th>0</th>\n",
       "      <td>2.226009</td>\n",
       "      <td>0.0</td>\n",
       "      <td>Skinny</td>\n",
       "    </tr>\n",
       "    <tr>\n",
       "      <th>1</th>\n",
       "      <td>0.018143</td>\n",
       "      <td>0.0</td>\n",
       "      <td>Normal</td>\n",
       "    </tr>\n",
       "    <tr>\n",
       "      <th>2</th>\n",
       "      <td>-1.762966</td>\n",
       "      <td>0.0</td>\n",
       "      <td>Fat</td>\n",
       "    </tr>\n",
       "    <tr>\n",
       "      <th>3</th>\n",
       "      <td>2.735424</td>\n",
       "      <td>0.0</td>\n",
       "      <td>Skinny</td>\n",
       "    </tr>\n",
       "    <tr>\n",
       "      <th>4</th>\n",
       "      <td>-3.027115</td>\n",
       "      <td>0.0</td>\n",
       "      <td>Fat</td>\n",
       "    </tr>\n",
       "    <tr>\n",
       "      <th>5</th>\n",
       "      <td>2.147026</td>\n",
       "      <td>0.0</td>\n",
       "      <td>Skinny</td>\n",
       "    </tr>\n",
       "    <tr>\n",
       "      <th>6</th>\n",
       "      <td>0.371425</td>\n",
       "      <td>0.0</td>\n",
       "      <td>Normal</td>\n",
       "    </tr>\n",
       "    <tr>\n",
       "      <th>7</th>\n",
       "      <td>-2.592399</td>\n",
       "      <td>0.0</td>\n",
       "      <td>Fat</td>\n",
       "    </tr>\n",
       "    <tr>\n",
       "      <th>8</th>\n",
       "      <td>0.393478</td>\n",
       "      <td>0.0</td>\n",
       "      <td>Normal</td>\n",
       "    </tr>\n",
       "    <tr>\n",
       "      <th>9</th>\n",
       "      <td>-0.509025</td>\n",
       "      <td>0.0</td>\n",
       "      <td>Fat</td>\n",
       "    </tr>\n",
       "  </tbody>\n",
       "</table>\n",
       "</div>"
      ],
      "text/plain": [
       "       PCA1  y-axis   label\n",
       "0  2.226009     0.0  Skinny\n",
       "1  0.018143     0.0  Normal\n",
       "2 -1.762966     0.0     Fat\n",
       "3  2.735424     0.0  Skinny\n",
       "4 -3.027115     0.0     Fat\n",
       "5  2.147026     0.0  Skinny\n",
       "6  0.371425     0.0  Normal\n",
       "7 -2.592399     0.0     Fat\n",
       "8  0.393478     0.0  Normal\n",
       "9 -0.509025     0.0     Fat"
      ]
     },
     "execution_count": 11,
     "metadata": {},
     "output_type": "execute_result"
    }
   ],
   "source": [
    "result = pd.DataFrame(projected_X, columns=['PCA1'])\n",
    "result['y-axis'] = 0.0\n",
    "result['label'] = Y\n",
    "result"
   ]
  },
  {
   "cell_type": "code",
   "execution_count": 12,
   "id": "1561697d",
   "metadata": {},
   "outputs": [
    {
     "data": {
      "image/png": "[encoded data removed]",
      "text/plain": [
       "<Figure size 432.125x360 with 1 Axes>"
      ]
     },
     "metadata": {
      "needs_background": "light"
     },
     "output_type": "display_data"
    }
   ],
   "source": [
    "sns.lmplot(data=result, x='PCA1', y='y-axis', fit_reg=False, hue='label', scatter_kws={'s': 50})\n",
    "plt.title('PCA result')\n",
    "plt.show()"
   ]
  },
  {
   "cell_type": "markdown",
   "id": "4f719574",
   "metadata": {},
   "source": [
    "사이킷런을 이용한 주성분 분석 간단 구현  \n",
    "사이킷런 라이브러리를 사용하면 단 몇 줄만으로 간단하게 주성분 분석을 구현할 수 있다.  \n",
    "다음과 같이 주성분 분석 라이브러리를 사용해 5차원 데이터를 1차원으로 아주 간단히 축소할 수 있다.  "
   ]
  },
  {
   "cell_type": "code",
   "execution_count": 15,
   "id": "495cc2a1",
   "metadata": {},
   "outputs": [],
   "source": [
    "# 주성분 분석을 하기 위해 import 한다.\n",
    "from sklearn.decomposition import PCA"
   ]
  },
  {
   "cell_type": "code",
   "execution_count": 19,
   "id": "5e5793eb",
   "metadata": {},
   "outputs": [
    {
     "data": {
      "text/plain": [
       "array([[-2.22600943],\n",
       "       [-0.0181432 ],\n",
       "       [ 1.76296611],\n",
       "       [-2.73542407],\n",
       "       [ 3.02711544],\n",
       "       [-2.14702579],\n",
       "       [-0.37142473],\n",
       "       [ 2.59239883],\n",
       "       [-0.39347815],\n",
       "       [ 0.50902498]])"
      ]
     },
     "execution_count": 19,
     "metadata": {},
     "output_type": "execute_result"
    }
   ],
   "source": [
    "# n_components에 축소할 차원을 지정해 PCA 객체를 만든다.\n",
    "pca = PCA(n_components=1) \n",
    "pca_x = pca.fit_transform(x_std) # 학습시킨다.\n",
    "pca_x"
   ]
  },
  {
   "cell_type": "code",
   "execution_count": 22,
   "id": "f390780d",
   "metadata": {},
   "outputs": [
    {
     "data": {
      "text/html": [
       "<div>\n",
       "<style scoped>\n",
       "    .dataframe tbody tr th:only-of-type {\n",
       "        vertical-align: middle;\n",
       "    }\n",
       "\n",
       "    .dataframe tbody tr th {\n",
       "        vertical-align: top;\n",
       "    }\n",
       "\n",
       "    .dataframe thead th {\n",
       "        text-align: right;\n",
       "    }\n",
       "</style>\n",
       "<table border=\"1\" class=\"dataframe\">\n",
       "  <thead>\n",
       "    <tr style=\"text-align: right;\">\n",
       "      <th></th>\n",
       "      <th>PCA1</th>\n",
       "      <th>y-axis</th>\n",
       "      <th>label</th>\n",
       "    </tr>\n",
       "  </thead>\n",
       "  <tbody>\n",
       "    <tr>\n",
       "      <th>0</th>\n",
       "      <td>-2.226009</td>\n",
       "      <td>0.0</td>\n",
       "      <td>Skinny</td>\n",
       "    </tr>\n",
       "    <tr>\n",
       "      <th>1</th>\n",
       "      <td>-0.018143</td>\n",
       "      <td>0.0</td>\n",
       "      <td>Normal</td>\n",
       "    </tr>\n",
       "    <tr>\n",
       "      <th>2</th>\n",
       "      <td>1.762966</td>\n",
       "      <td>0.0</td>\n",
       "      <td>Fat</td>\n",
       "    </tr>\n",
       "    <tr>\n",
       "      <th>3</th>\n",
       "      <td>-2.735424</td>\n",
       "      <td>0.0</td>\n",
       "      <td>Skinny</td>\n",
       "    </tr>\n",
       "    <tr>\n",
       "      <th>4</th>\n",
       "      <td>3.027115</td>\n",
       "      <td>0.0</td>\n",
       "      <td>Fat</td>\n",
       "    </tr>\n",
       "    <tr>\n",
       "      <th>5</th>\n",
       "      <td>-2.147026</td>\n",
       "      <td>0.0</td>\n",
       "      <td>Skinny</td>\n",
       "    </tr>\n",
       "    <tr>\n",
       "      <th>6</th>\n",
       "      <td>-0.371425</td>\n",
       "      <td>0.0</td>\n",
       "      <td>Normal</td>\n",
       "    </tr>\n",
       "    <tr>\n",
       "      <th>7</th>\n",
       "      <td>2.592399</td>\n",
       "      <td>0.0</td>\n",
       "      <td>Fat</td>\n",
       "    </tr>\n",
       "    <tr>\n",
       "      <th>8</th>\n",
       "      <td>-0.393478</td>\n",
       "      <td>0.0</td>\n",
       "      <td>Normal</td>\n",
       "    </tr>\n",
       "    <tr>\n",
       "      <th>9</th>\n",
       "      <td>0.509025</td>\n",
       "      <td>0.0</td>\n",
       "      <td>Fat</td>\n",
       "    </tr>\n",
       "  </tbody>\n",
       "</table>\n",
       "</div>"
      ],
      "text/plain": [
       "       PCA1  y-axis   label\n",
       "0 -2.226009     0.0  Skinny\n",
       "1 -0.018143     0.0  Normal\n",
       "2  1.762966     0.0     Fat\n",
       "3 -2.735424     0.0  Skinny\n",
       "4  3.027115     0.0     Fat\n",
       "5 -2.147026     0.0  Skinny\n",
       "6 -0.371425     0.0  Normal\n",
       "7  2.592399     0.0     Fat\n",
       "8 -0.393478     0.0  Normal\n",
       "9  0.509025     0.0     Fat"
      ]
     },
     "execution_count": 22,
     "metadata": {},
     "output_type": "execute_result"
    }
   ],
   "source": [
    "sklearn_result = pd.DataFrame(pca_x, columns=['PCA1'])\n",
    "sklearn_result['y-axis'] = 0.0\n",
    "sklearn_result['label'] = Y\n",
    "sklearn_result"
   ]
  },
  {
   "cell_type": "code",
   "execution_count": 23,
   "id": "8615d923",
   "metadata": {},
   "outputs": [
    {
     "data": {
      "image/png": "[encoded data removed]",
      "text/plain": [
       "<Figure size 432.125x360 with 1 Axes>"
      ]
     },
     "metadata": {
      "needs_background": "light"
     },
     "output_type": "display_data"
    }
   ],
   "source": [
    "sns.lmplot(data=sklearn_result, x='PCA1', y='y-axis', fit_reg=False, hue='label', scatter_kws={'s': 50})\n",
    "plt.title('PCA result')\n",
    "plt.show()"
   ]
  }
 ],
 "metadata": {
  "kernelspec": {
   "display_name": "Python 3",
   "language": "python",
   "name": "python3"
  },
  "language_info": {
   "codemirror_mode": {
    "name": "ipython",
    "version": 3
   },
   "file_extension": ".py",
   "mimetype": "text/x-python",
   "name": "python",
   "nbconvert_exporter": "python",
   "pygments_lexer": "ipython3",
   "version": "3.6.8"
  }
 },
 "nbformat": 4,
 "nbformat_minor": 5
}
