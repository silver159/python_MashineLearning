{
 "cells": [
  {
   "cell_type": "code",
   "execution_count": 1,
   "id": "c0ac027d",
   "metadata": {},
   "outputs": [],
   "source": [
    "import warnings\n",
    "warnings.filterwarnings(action='ignore')\n",
    "%config Computer.use_jedi = False\n",
    "from bs4 import BeautifulSoup\n",
    "from selenium import webdriver\n",
    "from selenium.webdriver.chrome.options import Options"
   ]
  },
  {
   "cell_type": "markdown",
   "id": "78fd6269",
   "metadata": {},
   "source": [
    "셀레니움 옵션 "
   ]
  },
  {
   "cell_type": "code",
   "execution_count": 4,
   "id": "1876b205",
   "metadata": {},
   "outputs": [
    {
     "name": "stdout",
     "output_type": "stream",
     "text": [
      "한번도 힘든 앞자리 바꾸기를 두번이나\n",
      "================================================================================\n",
      "15\n"
     ]
    }
   ],
   "source": [
    "option = Options()\n",
    "option.add_argument('--window-size=1890,1030') # 가상 크롬의 창 크기를 지정한다. \n",
    "driver = webdriver.Chrome('./chromedriver.exe', options=option) # 가상 크롬을 실행한다. \n",
    "# 지정된 시간동안 로딩되기를 기다리며 대기한다. \n",
    "driver.implicitly_wait(5)\n",
    "\n",
    "# 네이버 웹툰 신혼일기 22화 다이어트 편을 보여주는 페이지 \n",
    "# https://comic.naver.com/webtoon/detail?titleId=812354&no=22\n",
    "driver.get('https://comic.naver.com/webtoon/detail?titleId=812354&no=22')\n",
    "\n",
    "# 특정 베댓 1건을 읽는다. \n",
    "html = driver.page_source # 가상 크롬에 실행된 사이트의 html 정보를 얻어온다. \n",
    "# print(html)\n",
    "soup = BeautifulSoup(html,'html.parser') # 읽은 html 문서를 파싱할 수 있도록 준비한다. \n",
    "# review = soup.select_one('#cbox_module_wai_u_cbox_content_wrap_tabpanel > ul > li.u_cbox_comment.cbox_module__comment_458371111._user_id_no_e0RsP > div.u_cbox_comment_box > div > div.u_cbox_text_wrap > span.u_cbox_contents')\n",
    "review = soup.select_one('#cbox_module_wai_u_cbox_content_wrap_tabpanel > ul > li.u_cbox_comment.cbox_module__comment_458371000._user_id_no_3LAMI > div.u_cbox_comment_box > div > div.u_cbox_text_wrap > span.u_cbox_contents')\n",
    "print(review.text)\n",
    "print('=' * 80)\n",
    "\n",
    "# 전체 베댓을 읽는다.\n",
    "html = driver.page_source\n",
    "soup = BeautifulSoup(html,'html.parser')\n",
    "reviews = soup.select('span.u_cbox_contents')\n",
    "print(len(reviews))\n",
    "for i in range(len(reviews)):\n",
    "    print('{:2d}. {}'.format(i + 1, reviews[i]))"
   ]
  },
  {
   "cell_type": "code",
   "execution_count": 3,
   "id": "137842ee",
   "metadata": {},
   "outputs": [],
   "source": []
  },
  {
   "cell_type": "code",
   "execution_count": null,
   "id": "a1062245",
   "metadata": {},
   "outputs": [],
   "source": []
  },
  {
   "cell_type": "code",
   "execution_count": null,
   "id": "7d1857cb",
   "metadata": {},
   "outputs": [],
   "source": []
  }
 ],
 "metadata": {
  "kernelspec": {
   "display_name": "Python 3",
   "language": "python",
   "name": "python3"
  },
  "language_info": {
   "codemirror_mode": {
    "name": "ipython",
    "version": 3
   },
   "file_extension": ".py",
   "mimetype": "text/x-python",
   "name": "python",
   "nbconvert_exporter": "python",
   "pygments_lexer": "ipython3",
   "version": "3.6.8"
  }
 },
 "nbformat": 4,
 "nbformat_minor": 5
}
