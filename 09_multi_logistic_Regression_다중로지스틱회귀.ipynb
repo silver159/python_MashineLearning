{
 "cells": [
  {
   "cell_type": "code",
   "execution_count": 1,
   "id": "cb3d4e7f",
   "metadata": {},
   "outputs": [
    {
     "name": "stdout",
     "output_type": "stream",
     "text": [
      "WARNING:tensorflow:From c:\\python\\lib\\site-packages\\tensorflow\\python\\compat\\v2_compat.py:101: disable_resource_variables (from tensorflow.python.ops.variable_scope) is deprecated and will be removed in a future version.\n",
      "Instructions for updating:\n",
      "non-resource variables are not supported in the long term\n"
     ]
    }
   ],
   "source": [
    "import warnings\n",
    "warnings.filterwarnings(action='ignore') \n",
    "%config Completer.use_jedi = False \n",
    "import tensorflow.compat.v1 as tf\n",
    "tf.disable_v2_behavior()\n",
    "import numpy as np\n",
    "import pandas as pd"
   ]
  },
  {
   "cell_type": "code",
   "execution_count": 2,
   "id": "690aab89",
   "metadata": {},
   "outputs": [
    {
     "name": "stdout",
     "output_type": "stream",
     "text": [
      "[[2, 3], [4, 3], [6, 4], [8, 6], [10, 7], [12, 8], [14, 9]]\n",
      "<class 'list'>\n",
      "[[ 2  3]\n",
      " [ 4  3]\n",
      " [ 6  4]\n",
      " [ 8  6]\n",
      " [10  7]\n",
      " [12  8]\n",
      " [14  9]]\n",
      "<class 'numpy.ndarray'>\n"
     ]
    }
   ],
   "source": [
    "# x => [공부 시간, 과외 시간] \n",
    "x = [[2, 3], [4, 3], [6, 4], [8, 6], [10, 7], [12, 8], [14, 9]] # 7행 2열, 2차원\n",
    "print(x)\n",
    "print(type(x))\n",
    "\n",
    "xData = np.array(x)\n",
    "print(xData)\n",
    "print(type(xData))"
   ]
  },
  {
   "cell_type": "code",
   "execution_count": 3,
   "id": "6a1dc12d",
   "metadata": {},
   "outputs": [
    {
     "name": "stdout",
     "output_type": "stream",
     "text": [
      "[0, 0, 0, 1, 1, 1, 1]\n",
      "<class 'list'>\n",
      "[0 0 0 1 1 1 1]\n",
      "<class 'numpy.ndarray'>\n",
      "[[0]\n",
      " [0]\n",
      " [0]\n",
      " [1]\n",
      " [1]\n",
      " [1]\n",
      " [1]]\n"
     ]
    }
   ],
   "source": [
    "# y => [합격 여부] => 실제값\n",
    "y = [0, 0, 0, 1, 1, 1, 1] # 1행 7열, 1차원\n",
    "print(y)\n",
    "print(type(y))\n",
    "\n",
    "yData = np.array(y)\n",
    "print(yData)\n",
    "print(type(yData))\n",
    "\n",
    "# reshape(): 넘파이에서 데이터는 그대로 유지한채 배열의 형태(차원)을 변경한다.\n",
    "# 1행 7열 넘파이 배열 => 7행 1열 넘파이 배열, 2차원\n",
    "yData = yData.reshape(7,1)\n",
    "print(yData)"
   ]
  },
  {
   "cell_type": "markdown",
   "id": "afef78ab",
   "metadata": {},
   "source": [
    "xData와 yData를 저장할 placeholder를 만든다."
   ]
  },
  {
   "cell_type": "code",
   "execution_count": 4,
   "id": "5c06cac2",
   "metadata": {},
   "outputs": [],
   "source": [
    "# placeholder에 넘파이 배열을 대입할 경우 shape 속성을 이용해서 대입될 넘파이 배열의 차원을 지정해야 한다.\n",
    "# shape=[None, 2] => placeholder에 대입될 넘파이 배열의 행의 개수는 몇개라도 상관없고 열의 개수는 무조건 2개라는 의미이다. \n",
    "X = tf.placeholder(dtype=tf.float32, shape=[None, 2]) # xData가 대입될 placeholder\n",
    "Y = tf.placeholder(dtype=tf.float32, shape=[None, 1]) # yData가 대입될 placeholder"
   ]
  },
  {
   "cell_type": "markdown",
   "id": "38354f24",
   "metadata": {},
   "source": [
    "가중치와 y절편을 임의의 값으로 정한다."
   ]
  },
  {
   "cell_type": "code",
   "execution_count": 5,
   "id": "6d849131",
   "metadata": {},
   "outputs": [
    {
     "name": "stdout",
     "output_type": "stream",
     "text": [
      "a = [[0.9412844]\n",
      " [0.9557828]], b =[0.8786911]\n",
      "a\n",
      "[[0.9412844]\n",
      " [0.9557828]]\n",
      "b\n",
      "[0.8786911]\n",
      "a1: 0.941284, a2: 0.955783, b: 0.878691\n",
      "a1: 0.941284, a2: 0.955783, b: 0.878691\n"
     ]
    }
   ],
   "source": [
    "a = tf.Variable(tf.random_uniform([2, 1], dtype=tf.float32)) # 난수를 2행 1렬로 발생시킨다.\n",
    "b = tf.Variable(tf.random_uniform([1], dtype=tf.float32)) # y절편(바이어스), 0 ~ 1 사이의 난수\n",
    "sess = tf.Session()\n",
    "sess.run(tf.global_variables_initializer())\n",
    "print('a = {}, b ={}'.format(sess.run(a), sess.run(b)))\n",
    "print('a\\n', sess.run(a), sep='')\n",
    "print('b\\n', sess.run(b), sep='')\n",
    "print('a1: {:f}, a2: {:f}, b: {:f}'.format(sess.run(a)[0][0], sess.run(a)[1][0], sess.run(b)[0]))\n",
    "print('a1: %f, a2: %f, b: %f' % (sess.run(a)[0], sess.run(a)[1], sess.run(b)))"
   ]
  },
  {
   "cell_type": "markdown",
   "id": "a1bc2c09",
   "metadata": {},
   "source": [
    "시그모이드 방정식, 오차 함수, 경사 하강  "
   ]
  },
  {
   "cell_type": "code",
   "execution_count": 6,
   "id": "71deeffa",
   "metadata": {},
   "outputs": [],
   "source": [
    "# sigmoid(): tensorflow에서 시그모이드 방정식을 계산한다.\n",
    "# matmul(): tensorflow에서 행렬의 곱(적)을 계산한다.\n",
    "# Y = 1 / (1 + np.e ** - (a * x + b))\n",
    "# y = tf.sigmoid(a1 * x1 + a2 * x2 + b)\n",
    "y = tf.sigmoid(tf.matmul(X, a) + b) # 시그모이드 방정식, 예측값(Y -> y)\n",
    "loss = - tf.reduce_mean(Y * tf.log(y) + (1 - Y) * tf.log(1 - y)) # 오차 함수\n",
    "gradient_descent = tf.train.GradientDescentOptimizer(0.1).minimize(loss) # 경사 하강"
   ]
  },
  {
   "cell_type": "markdown",
   "id": "104c94b8",
   "metadata": {},
   "source": [
    "sigmoid() 메소드의 실행 결과(y)가 0.5 이상이면 1을 0.5 미만이면 -1을 리턴시킨다."
   ]
  },
  {
   "cell_type": "code",
   "execution_count": 7,
   "id": "08a85b10",
   "metadata": {},
   "outputs": [
    {
     "name": "stdout",
     "output_type": "stream",
     "text": [
      "[1 2]\n",
      "[1 0]\n",
      "[1 0]\n"
     ]
    }
   ],
   "source": [
    "sess = tf.Session()\n",
    "# cast(data, dtype): tensorflow에서 데이터(data)를 dtype으로 형변환 한다.\n",
    "predict = tf.cast(tf.constant([1.9, 2.1]), dtype=tf.int32)\n",
    "print(sess.run(predict)) # [1 2]\n",
    "# cast() 메소드는 캐스팅할 데이터가 boolean 타입이면 True는 1로 False는 0으로 형변환 한다.\n",
    "predict = tf.cast(tf.constant([True, False]), dtype=tf.int32)\n",
    "print(sess.run(predict)) # [1 0]\n",
    "predict = tf.cast([0.5 >= 0.5, 0.5 < 0.5], dtype=tf.int32)\n",
    "print(sess.run(predict)) # [1 0]"
   ]
  },
  {
   "cell_type": "markdown",
   "id": "9943f167",
   "metadata": {},
   "source": [
    "sigmoid() 메소드를 실행한 예측값(0 또는 1)을 계산한다."
   ]
  },
  {
   "cell_type": "code",
   "execution_count": 8,
   "id": "e906280b",
   "metadata": {},
   "outputs": [],
   "source": [
    "predict = tf.cast(y >= 0.5, dtype=tf.float32) # 예측값"
   ]
  },
  {
   "cell_type": "markdown",
   "id": "bec4b0a8",
   "metadata": {},
   "source": [
    "예측값(predict)과 실제값(Y)이 일치하는 정도(정확도, 정밀도)"
   ]
  },
  {
   "cell_type": "code",
   "execution_count": 9,
   "id": "1c9f2f1c",
   "metadata": {},
   "outputs": [
    {
     "name": "stdout",
     "output_type": "stream",
     "text": [
      "True False\n"
     ]
    }
   ],
   "source": [
    "sess = tf.Session()\n",
    "# equal(): tensorflow에서 인수로 지정한 값이 같으면 True, 다르면 \n",
    "# False를 리턴한다.\n",
    "print(sess.run(tf.equal(1,1)), sess.run(tf.equal(1,0))) # True False\n",
    "# equal() 메소드로 예측값과 실제값이 같은가 비교 후 True 또는 False를\n",
    "# cast() 메소드로 1 또는 0으로 캐스팅하고 평균을 계산한다.\n",
    "accuracy = tf.reduce_mean(tf.cast(tf.equal(predict, Y), dtype=tf.float32))"
   ]
  },
  {
   "cell_type": "code",
   "execution_count": 10,
   "id": "c060e619",
   "metadata": {},
   "outputs": [
    {
     "name": "stdout",
     "output_type": "stream",
     "text": [
      "epoch:      0, loss:  1.9783, 기울기 a1:  0.3917, 기울기 a2:  0.4572, y 절편:  0.3193\n",
      "epoch:    300, loss:  0.2613, 기울기 a1:  0.7886, 기울기 a2: -0.5001, y 절편: -2.5202\n",
      "epoch:    600, loss:  0.1882, 기울기 a1:  0.7943, 기울기 a2: -0.2403, y 절편: -3.9662\n",
      "epoch:    900, loss:  0.1476, 기울기 a1:  0.7106, 기울기 a2:  0.0760, y 절편: -5.0159\n",
      "epoch:   1200, loss:  0.1211, 기울기 a1:  0.6119, 기울기 a2:  0.3736, y 절편: -5.8482\n",
      "epoch:   1500, loss:  0.1025, 기울기 a1:  0.5169, 기울기 a2:  0.6402, y 절편: -6.5396\n",
      "epoch:   1800, loss:  0.0887, 기울기 a1:  0.4304, 기울기 a2:  0.8760, y 절편: -7.1315\n",
      "epoch:   2100, loss:  0.0780, 기울기 a1:  0.3533, 기울기 a2:  1.0848, y 절편: -7.6493\n",
      "epoch:   2400, loss:  0.0697, 기울기 a1:  0.2847, 기울기 a2:  1.2705, y 절편: -8.1095\n",
      "epoch:   2700, loss:  0.0629, 기울기 a1:  0.2239, 기울기 a2:  1.4367, y 절편: -8.5238\n",
      "epoch:   3000, loss:  0.0573, 기울기 a1:  0.1696, 기울기 a2:  1.5865, y 절편: -8.9006\n",
      "실제값\n",
      " [[0]\n",
      " [0]\n",
      " [0]\n",
      " [1]\n",
      " [1]\n",
      " [1]\n",
      " [1]]\n",
      "예상값\n",
      " [[0.]\n",
      " [0.]\n",
      " [0.]\n",
      " [1.]\n",
      " [1.]\n",
      " [1.]\n",
      " [1.]]\n",
      "정확도: 100.00%\n"
     ]
    }
   ],
   "source": [
    "sess = tf.Session() \n",
    "sess.run(tf.global_variables_initializer())\n",
    "\n",
    "# 난수에 따라 nan 나올 수 있다. 그 때는 다시 실행하면 된다.\n",
    "for epoch in range(3001):\n",
    "    # sess.run([실행할 내용, ...], feed_dict={플레이스홀더 이름: \n",
    "    # 플레이스홀더에 저장할 데이터, ...})\n",
    "    a_, b_, loss_, _, predict_, accuracy_ = sess.run([a, b, loss, \n",
    "    gradient_descent, predict, accuracy], feed_dict={X: xData,\n",
    "                                                     Y: yData})\n",
    "    if epoch % 300 == 0:\n",
    "        print('epoch: {:6d}, loss: {:7.4f}, 기울기 a1: {:7.4f}, 기울기 a2: {:7.4f}, y 절편: {:7.4f}'.format(epoch, loss_, a_[0][0], a_[1][0], b_[0]))\n",
    "        # print('epoch: %6d, loss: %7.4f, 기울기: %7.4f, y 절편: %7.4f'% (epoch, sess.run(loss), sess.run(a), sess.run(b)))\n",
    "print('실제값\\n ', yData, sep='')\n",
    "print('예상값\\n ', predict_, sep='')\n",
    "print('정확도: {:6.2%}'.format(accuracy_))"
   ]
  }
 ],
 "metadata": {
  "kernelspec": {
   "display_name": "Python 3",
   "language": "python",
   "name": "python3"
  },
  "language_info": {
   "codemirror_mode": {
    "name": "ipython",
    "version": 3
   },
   "file_extension": ".py",
   "mimetype": "text/x-python",
   "name": "python",
   "nbconvert_exporter": "python",
   "pygments_lexer": "ipython3",
   "version": "3.6.8"
  }
 },
 "nbformat": 4,
 "nbformat_minor": 5
}
